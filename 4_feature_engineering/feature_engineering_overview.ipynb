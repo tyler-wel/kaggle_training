{
 "nbformat": 4,
 "nbformat_minor": 2,
 "metadata": {
  "language_info": {
   "name": "python",
   "codemirror_mode": {
    "name": "ipython",
    "version": 3
   },
   "version": "3.7.4"
  },
  "orig_nbformat": 2,
  "file_extension": ".py",
  "mimetype": "text/x-python",
  "name": "python",
  "npconvert_exporter": "python",
  "pygments_lexer": "ipython3",
  "version": 3
 },
 "cells": [
  {
   "cell_type": "markdown",
   "metadata": {},
   "outputs": [],
   "source": [
    "# Feature Engineering Overview\n",
    "In our previous tutorials, we only brushed upon features and how to handle them. In this overview we'll take a practical approach to learning about feature engineering. The things we will focus on are:\n",
    "- Develop a baseline model for comparing performances on models with more/different features.\n",
    "- Encode categorical features so model can make better use of the information.\n",
    "- Generate new features to provide more information for the model.\n",
    "- Select specific features to reduce overfitting and increase prediction speed.\n",
    "\n",
    "For these examples, we'll be using the 'TalkingDataAdTracking' kaggle competition dataset. The goal of this dataset is to predict if a user will download an app after clicking through an ad. For learning purposes we'll drop 99% of negative records (negative meaning the app wasn't downloaded) to make the target more balanced."
   ]
  },
  {
   "cell_type": "markdown",
   "metadata": {},
   "outputs": [],
   "source": [
    "## 1. Baseline Model\n",
    "To begin, we'll first do a bit of review of setting up baseline models using data from the kaggle Kickerstarter projects before jumping into the TalkingDataAdTracking dataset. So let's get importing!\n",
    "\n",
    "### Kickstarter Warmup (review)"
   ]
  },
  {
   "cell_type": "code",
   "execution_count": 1,
   "metadata": {},
   "outputs": [
    {
     "name": "stdout",
     "output_type": "stream",
     "text": "\u001b[32mKickstarter 2018 data imported\u001b[0m\n"
    },
    {
     "data": {
      "text/html": "<div>\n<style scoped>\n    .dataframe tbody tr th:only-of-type {\n        vertical-align: middle;\n    }\n\n    .dataframe tbody tr th {\n        vertical-align: top;\n    }\n\n    .dataframe thead th {\n        text-align: right;\n    }\n</style>\n<table border=\"1\" class=\"dataframe\">\n  <thead>\n    <tr style=\"text-align: right;\">\n      <th></th>\n      <th>ID</th>\n      <th>name</th>\n      <th>category</th>\n      <th>main_category</th>\n      <th>currency</th>\n      <th>deadline</th>\n      <th>goal</th>\n      <th>launched</th>\n      <th>pledged</th>\n      <th>state</th>\n      <th>backers</th>\n      <th>country</th>\n      <th>usd pledged</th>\n      <th>usd_pledged_real</th>\n      <th>usd_goal_real</th>\n    </tr>\n  </thead>\n  <tbody>\n    <tr>\n      <td>0</td>\n      <td>1000002330</td>\n      <td>The Songs of Adelaide &amp; Abullah</td>\n      <td>Poetry</td>\n      <td>Publishing</td>\n      <td>GBP</td>\n      <td>2015-10-09</td>\n      <td>1000.0</td>\n      <td>2015-08-11 12:12:28</td>\n      <td>0.00</td>\n      <td>failed</td>\n      <td>0</td>\n      <td>GB</td>\n      <td>0.00</td>\n      <td>0.00</td>\n      <td>1533.95</td>\n    </tr>\n    <tr>\n      <td>1</td>\n      <td>1000003930</td>\n      <td>Greeting From Earth: ZGAC Arts Capsule For ET</td>\n      <td>Narrative Film</td>\n      <td>Film &amp; Video</td>\n      <td>USD</td>\n      <td>2017-11-01</td>\n      <td>30000.0</td>\n      <td>2017-09-02 04:43:57</td>\n      <td>2421.00</td>\n      <td>failed</td>\n      <td>15</td>\n      <td>US</td>\n      <td>100.00</td>\n      <td>2421.00</td>\n      <td>30000.00</td>\n    </tr>\n    <tr>\n      <td>2</td>\n      <td>1000004038</td>\n      <td>Where is Hank?</td>\n      <td>Narrative Film</td>\n      <td>Film &amp; Video</td>\n      <td>USD</td>\n      <td>2013-02-26</td>\n      <td>45000.0</td>\n      <td>2013-01-12 00:20:50</td>\n      <td>220.00</td>\n      <td>failed</td>\n      <td>3</td>\n      <td>US</td>\n      <td>220.00</td>\n      <td>220.00</td>\n      <td>45000.00</td>\n    </tr>\n    <tr>\n      <td>3</td>\n      <td>1000007540</td>\n      <td>ToshiCapital Rekordz Needs Help to Complete Album</td>\n      <td>Music</td>\n      <td>Music</td>\n      <td>USD</td>\n      <td>2012-04-16</td>\n      <td>5000.0</td>\n      <td>2012-03-17 03:24:11</td>\n      <td>1.00</td>\n      <td>failed</td>\n      <td>1</td>\n      <td>US</td>\n      <td>1.00</td>\n      <td>1.00</td>\n      <td>5000.00</td>\n    </tr>\n    <tr>\n      <td>4</td>\n      <td>1000011046</td>\n      <td>Community Film Project: The Art of Neighborhoo...</td>\n      <td>Film &amp; Video</td>\n      <td>Film &amp; Video</td>\n      <td>USD</td>\n      <td>2015-08-29</td>\n      <td>19500.0</td>\n      <td>2015-07-04 08:35:03</td>\n      <td>1283.00</td>\n      <td>canceled</td>\n      <td>14</td>\n      <td>US</td>\n      <td>1283.00</td>\n      <td>1283.00</td>\n      <td>19500.00</td>\n    </tr>\n    <tr>\n      <td>5</td>\n      <td>1000014025</td>\n      <td>Monarch Espresso Bar</td>\n      <td>Restaurants</td>\n      <td>Food</td>\n      <td>USD</td>\n      <td>2016-04-01</td>\n      <td>50000.0</td>\n      <td>2016-02-26 13:38:27</td>\n      <td>52375.00</td>\n      <td>successful</td>\n      <td>224</td>\n      <td>US</td>\n      <td>52375.00</td>\n      <td>52375.00</td>\n      <td>50000.00</td>\n    </tr>\n    <tr>\n      <td>6</td>\n      <td>1000023410</td>\n      <td>Support Solar Roasted Coffee &amp; Green Energy!  ...</td>\n      <td>Food</td>\n      <td>Food</td>\n      <td>USD</td>\n      <td>2014-12-21</td>\n      <td>1000.0</td>\n      <td>2014-12-01 18:30:44</td>\n      <td>1205.00</td>\n      <td>successful</td>\n      <td>16</td>\n      <td>US</td>\n      <td>1205.00</td>\n      <td>1205.00</td>\n      <td>1000.00</td>\n    </tr>\n    <tr>\n      <td>7</td>\n      <td>1000030581</td>\n      <td>Chaser Strips. Our Strips make Shots their B*tch!</td>\n      <td>Drinks</td>\n      <td>Food</td>\n      <td>USD</td>\n      <td>2016-03-17</td>\n      <td>25000.0</td>\n      <td>2016-02-01 20:05:12</td>\n      <td>453.00</td>\n      <td>failed</td>\n      <td>40</td>\n      <td>US</td>\n      <td>453.00</td>\n      <td>453.00</td>\n      <td>25000.00</td>\n    </tr>\n    <tr>\n      <td>8</td>\n      <td>1000034518</td>\n      <td>SPIN - Premium Retractable In-Ear Headphones w...</td>\n      <td>Product Design</td>\n      <td>Design</td>\n      <td>USD</td>\n      <td>2014-05-29</td>\n      <td>125000.0</td>\n      <td>2014-04-24 18:14:43</td>\n      <td>8233.00</td>\n      <td>canceled</td>\n      <td>58</td>\n      <td>US</td>\n      <td>8233.00</td>\n      <td>8233.00</td>\n      <td>125000.00</td>\n    </tr>\n    <tr>\n      <td>9</td>\n      <td>100004195</td>\n      <td>STUDIO IN THE SKY - A Documentary Feature Film...</td>\n      <td>Documentary</td>\n      <td>Film &amp; Video</td>\n      <td>USD</td>\n      <td>2014-08-10</td>\n      <td>65000.0</td>\n      <td>2014-07-11 21:55:48</td>\n      <td>6240.57</td>\n      <td>canceled</td>\n      <td>43</td>\n      <td>US</td>\n      <td>6240.57</td>\n      <td>6240.57</td>\n      <td>65000.00</td>\n    </tr>\n  </tbody>\n</table>\n</div>",
      "text/plain": "           ID                                               name  \\\n0  1000002330                    The Songs of Adelaide & Abullah   \n1  1000003930      Greeting From Earth: ZGAC Arts Capsule For ET   \n2  1000004038                                     Where is Hank?   \n3  1000007540  ToshiCapital Rekordz Needs Help to Complete Album   \n4  1000011046  Community Film Project: The Art of Neighborhoo...   \n5  1000014025                               Monarch Espresso Bar   \n6  1000023410  Support Solar Roasted Coffee & Green Energy!  ...   \n7  1000030581  Chaser Strips. Our Strips make Shots their B*tch!   \n8  1000034518  SPIN - Premium Retractable In-Ear Headphones w...   \n9   100004195  STUDIO IN THE SKY - A Documentary Feature Film...   \n\n         category main_category currency   deadline      goal  \\\n0          Poetry    Publishing      GBP 2015-10-09    1000.0   \n1  Narrative Film  Film & Video      USD 2017-11-01   30000.0   \n2  Narrative Film  Film & Video      USD 2013-02-26   45000.0   \n3           Music         Music      USD 2012-04-16    5000.0   \n4    Film & Video  Film & Video      USD 2015-08-29   19500.0   \n5     Restaurants          Food      USD 2016-04-01   50000.0   \n6            Food          Food      USD 2014-12-21    1000.0   \n7          Drinks          Food      USD 2016-03-17   25000.0   \n8  Product Design        Design      USD 2014-05-29  125000.0   \n9     Documentary  Film & Video      USD 2014-08-10   65000.0   \n\n             launched   pledged       state  backers country  usd pledged  \\\n0 2015-08-11 12:12:28      0.00      failed        0      GB         0.00   \n1 2017-09-02 04:43:57   2421.00      failed       15      US       100.00   \n2 2013-01-12 00:20:50    220.00      failed        3      US       220.00   \n3 2012-03-17 03:24:11      1.00      failed        1      US         1.00   \n4 2015-07-04 08:35:03   1283.00    canceled       14      US      1283.00   \n5 2016-02-26 13:38:27  52375.00  successful      224      US     52375.00   \n6 2014-12-01 18:30:44   1205.00  successful       16      US      1205.00   \n7 2016-02-01 20:05:12    453.00      failed       40      US       453.00   \n8 2014-04-24 18:14:43   8233.00    canceled       58      US      8233.00   \n9 2014-07-11 21:55:48   6240.57    canceled       43      US      6240.57   \n\n   usd_pledged_real  usd_goal_real  \n0              0.00        1533.95  \n1           2421.00       30000.00  \n2            220.00       45000.00  \n3              1.00        5000.00  \n4           1283.00       19500.00  \n5          52375.00       50000.00  \n6           1205.00        1000.00  \n7            453.00       25000.00  \n8           8233.00      125000.00  \n9           6240.57       65000.00  "
     },
     "execution_count": 1,
     "metadata": {},
     "output_type": "execute_result"
    }
   ],
   "source": [
    "import pandas as pd\n",
    "from termcolor import colored # colored prints\n",
    "from my_modules import data_imports as data\n",
    "\n",
    "kst_data = data.import_kickstarter_2018_data()\n",
    "kst_data.head(10)\n"
   ]
  },
  {
   "cell_type": "markdown",
   "metadata": {},
   "outputs": [],
   "source": [
    "Looking at this data, let's try to predict whether or not a Kickstarter project will succeed or not. To build teach our model, we can use the *state* column as our outcome. To predict this outcome, we can use features such as category, currency, funding goal, country, and when it was launched.\n",
    "\n",
    "### Preparing target column\n",
    "First, let's look at project states and convert them into something we can use as targets in a model. Remember that model's don't like to work with strings, and our outcome data is categorical."
   ]
  },
  {
   "cell_type": "code",
   "execution_count": 9,
   "metadata": {},
   "outputs": [
    {
     "data": {
      "text/plain": "state\ncanceled       38779\nfailed        197719\nsuccessful    133956\nsuspended       1846\nundefined       3562\nName: ID, dtype: int64"
     },
     "execution_count": 9,
     "metadata": {},
     "output_type": "execute_result"
    }
   ],
   "source": [
    "# pd.unique(kst_data.state)\n",
    "# kst_data.groupby('state')['ID'].count()\n",
    "kst_data.groupby('state')['ID'].nunique()"
   ]
  },
  {
   "cell_type": "markdown",
   "metadata": {},
   "outputs": [],
   "source": [
    "So we see that our dataset has 6 unique states, with mostly failed and successful outcomes.\n",
    "\n",
    "Since our priority in this quick review is not data cleaning, we'll just go a long with this simple cleansing:\n",
    "- Drop projects that are \"live\"\n",
    "- Counting successful as ```outcome = 1```\n",
    "- Combining all other states as ```outcome = 0```"
   ]
  },
  {
   "cell_type": "code",
   "execution_count": 4,
   "metadata": {},
   "outputs": [
    {
     "data": {
      "text/html": "<div>\n<style scoped>\n    .dataframe tbody tr th:only-of-type {\n        vertical-align: middle;\n    }\n\n    .dataframe tbody tr th {\n        vertical-align: top;\n    }\n\n    .dataframe thead th {\n        text-align: right;\n    }\n</style>\n<table border=\"1\" class=\"dataframe\">\n  <thead>\n    <tr style=\"text-align: right;\">\n      <th></th>\n      <th>ID</th>\n      <th>name</th>\n      <th>category</th>\n      <th>main_category</th>\n      <th>currency</th>\n      <th>deadline</th>\n      <th>goal</th>\n      <th>launched</th>\n      <th>pledged</th>\n      <th>state</th>\n      <th>backers</th>\n      <th>country</th>\n      <th>usd pledged</th>\n      <th>usd_pledged_real</th>\n      <th>usd_goal_real</th>\n      <th>outcome</th>\n    </tr>\n  </thead>\n  <tbody>\n    <tr>\n      <td>0</td>\n      <td>1000002330</td>\n      <td>The Songs of Adelaide &amp; Abullah</td>\n      <td>Poetry</td>\n      <td>Publishing</td>\n      <td>GBP</td>\n      <td>2015-10-09</td>\n      <td>1000.0</td>\n      <td>2015-08-11 12:12:28</td>\n      <td>0.0</td>\n      <td>failed</td>\n      <td>0</td>\n      <td>GB</td>\n      <td>0.0</td>\n      <td>0.0</td>\n      <td>1533.95</td>\n      <td>0</td>\n    </tr>\n    <tr>\n      <td>1</td>\n      <td>1000003930</td>\n      <td>Greeting From Earth: ZGAC Arts Capsule For ET</td>\n      <td>Narrative Film</td>\n      <td>Film &amp; Video</td>\n      <td>USD</td>\n      <td>2017-11-01</td>\n      <td>30000.0</td>\n      <td>2017-09-02 04:43:57</td>\n      <td>2421.0</td>\n      <td>failed</td>\n      <td>15</td>\n      <td>US</td>\n      <td>100.0</td>\n      <td>2421.0</td>\n      <td>30000.00</td>\n      <td>0</td>\n    </tr>\n    <tr>\n      <td>2</td>\n      <td>1000004038</td>\n      <td>Where is Hank?</td>\n      <td>Narrative Film</td>\n      <td>Film &amp; Video</td>\n      <td>USD</td>\n      <td>2013-02-26</td>\n      <td>45000.0</td>\n      <td>2013-01-12 00:20:50</td>\n      <td>220.0</td>\n      <td>failed</td>\n      <td>3</td>\n      <td>US</td>\n      <td>220.0</td>\n      <td>220.0</td>\n      <td>45000.00</td>\n      <td>0</td>\n    </tr>\n    <tr>\n      <td>3</td>\n      <td>1000007540</td>\n      <td>ToshiCapital Rekordz Needs Help to Complete Album</td>\n      <td>Music</td>\n      <td>Music</td>\n      <td>USD</td>\n      <td>2012-04-16</td>\n      <td>5000.0</td>\n      <td>2012-03-17 03:24:11</td>\n      <td>1.0</td>\n      <td>failed</td>\n      <td>1</td>\n      <td>US</td>\n      <td>1.0</td>\n      <td>1.0</td>\n      <td>5000.00</td>\n      <td>0</td>\n    </tr>\n    <tr>\n      <td>4</td>\n      <td>1000011046</td>\n      <td>Community Film Project: The Art of Neighborhoo...</td>\n      <td>Film &amp; Video</td>\n      <td>Film &amp; Video</td>\n      <td>USD</td>\n      <td>2015-08-29</td>\n      <td>19500.0</td>\n      <td>2015-07-04 08:35:03</td>\n      <td>1283.0</td>\n      <td>canceled</td>\n      <td>14</td>\n      <td>US</td>\n      <td>1283.0</td>\n      <td>1283.0</td>\n      <td>19500.00</td>\n      <td>0</td>\n    </tr>\n  </tbody>\n</table>\n</div>",
      "text/plain": "           ID                                               name  \\\n0  1000002330                    The Songs of Adelaide & Abullah   \n1  1000003930      Greeting From Earth: ZGAC Arts Capsule For ET   \n2  1000004038                                     Where is Hank?   \n3  1000007540  ToshiCapital Rekordz Needs Help to Complete Album   \n4  1000011046  Community Film Project: The Art of Neighborhoo...   \n\n         category main_category currency   deadline     goal  \\\n0          Poetry    Publishing      GBP 2015-10-09   1000.0   \n1  Narrative Film  Film & Video      USD 2017-11-01  30000.0   \n2  Narrative Film  Film & Video      USD 2013-02-26  45000.0   \n3           Music         Music      USD 2012-04-16   5000.0   \n4    Film & Video  Film & Video      USD 2015-08-29  19500.0   \n\n             launched  pledged     state  backers country  usd pledged  \\\n0 2015-08-11 12:12:28      0.0    failed        0      GB          0.0   \n1 2017-09-02 04:43:57   2421.0    failed       15      US        100.0   \n2 2013-01-12 00:20:50    220.0    failed        3      US        220.0   \n3 2012-03-17 03:24:11      1.0    failed        1      US          1.0   \n4 2015-07-04 08:35:03   1283.0  canceled       14      US       1283.0   \n\n   usd_pledged_real  usd_goal_real  outcome  \n0               0.0        1533.95        0  \n1            2421.0       30000.00        0  \n2             220.0       45000.00        0  \n3               1.0        5000.00        0  \n4            1283.0       19500.00        0  "
     },
     "execution_count": 4,
     "metadata": {},
     "output_type": "execute_result"
    }
   ],
   "source": [
    "# Drop live projects\n",
    "kst_data = kst_data.query('state != \"live\"')\n",
    "\n",
    "# Add the 'outcome' column with \"successful == 1\", everything else 0\n",
    "kst_data = kst_data.assign(outcome=(kst_data['state'] == 'successful').astype(int))\n",
    "kst_data.head()"
   ]
  },
  {
   "cell_type": "markdown",
   "metadata": {},
   "outputs": [],
   "source": [
    "### Converting Timestamps\n",
    "Now that we have our outcome all setup and ready, it's time to handle dates. Let's convert the *launched* feature into something more categorical that our model can understand. We imported both *deadline* and *launched* as python Timestamp objects, so we can use the ```.dt.``` attribute on the timestamp column to get the times. "
   ]
  },
  {
   "cell_type": "code",
   "execution_count": 5,
   "metadata": {},
   "outputs": [
    {
     "data": {
      "text/html": "<div>\n<style scoped>\n    .dataframe tbody tr th:only-of-type {\n        vertical-align: middle;\n    }\n\n    .dataframe tbody tr th {\n        vertical-align: top;\n    }\n\n    .dataframe thead th {\n        text-align: right;\n    }\n</style>\n<table border=\"1\" class=\"dataframe\">\n  <thead>\n    <tr style=\"text-align: right;\">\n      <th></th>\n      <th>ID</th>\n      <th>name</th>\n      <th>category</th>\n      <th>main_category</th>\n      <th>currency</th>\n      <th>deadline</th>\n      <th>goal</th>\n      <th>launched</th>\n      <th>pledged</th>\n      <th>state</th>\n      <th>backers</th>\n      <th>country</th>\n      <th>usd pledged</th>\n      <th>usd_pledged_real</th>\n      <th>usd_goal_real</th>\n      <th>outcome</th>\n      <th>hour</th>\n      <th>day</th>\n      <th>month</th>\n      <th>year</th>\n    </tr>\n  </thead>\n  <tbody>\n    <tr>\n      <td>0</td>\n      <td>1000002330</td>\n      <td>The Songs of Adelaide &amp; Abullah</td>\n      <td>Poetry</td>\n      <td>Publishing</td>\n      <td>GBP</td>\n      <td>2015-10-09</td>\n      <td>1000.0</td>\n      <td>2015-08-11 12:12:28</td>\n      <td>0.0</td>\n      <td>failed</td>\n      <td>0</td>\n      <td>GB</td>\n      <td>0.0</td>\n      <td>0.0</td>\n      <td>1533.95</td>\n      <td>0</td>\n      <td>12</td>\n      <td>11</td>\n      <td>8</td>\n      <td>2015</td>\n    </tr>\n    <tr>\n      <td>1</td>\n      <td>1000003930</td>\n      <td>Greeting From Earth: ZGAC Arts Capsule For ET</td>\n      <td>Narrative Film</td>\n      <td>Film &amp; Video</td>\n      <td>USD</td>\n      <td>2017-11-01</td>\n      <td>30000.0</td>\n      <td>2017-09-02 04:43:57</td>\n      <td>2421.0</td>\n      <td>failed</td>\n      <td>15</td>\n      <td>US</td>\n      <td>100.0</td>\n      <td>2421.0</td>\n      <td>30000.00</td>\n      <td>0</td>\n      <td>4</td>\n      <td>2</td>\n      <td>9</td>\n      <td>2017</td>\n    </tr>\n    <tr>\n      <td>2</td>\n      <td>1000004038</td>\n      <td>Where is Hank?</td>\n      <td>Narrative Film</td>\n      <td>Film &amp; Video</td>\n      <td>USD</td>\n      <td>2013-02-26</td>\n      <td>45000.0</td>\n      <td>2013-01-12 00:20:50</td>\n      <td>220.0</td>\n      <td>failed</td>\n      <td>3</td>\n      <td>US</td>\n      <td>220.0</td>\n      <td>220.0</td>\n      <td>45000.00</td>\n      <td>0</td>\n      <td>0</td>\n      <td>12</td>\n      <td>1</td>\n      <td>2013</td>\n    </tr>\n    <tr>\n      <td>3</td>\n      <td>1000007540</td>\n      <td>ToshiCapital Rekordz Needs Help to Complete Album</td>\n      <td>Music</td>\n      <td>Music</td>\n      <td>USD</td>\n      <td>2012-04-16</td>\n      <td>5000.0</td>\n      <td>2012-03-17 03:24:11</td>\n      <td>1.0</td>\n      <td>failed</td>\n      <td>1</td>\n      <td>US</td>\n      <td>1.0</td>\n      <td>1.0</td>\n      <td>5000.00</td>\n      <td>0</td>\n      <td>3</td>\n      <td>17</td>\n      <td>3</td>\n      <td>2012</td>\n    </tr>\n    <tr>\n      <td>4</td>\n      <td>1000011046</td>\n      <td>Community Film Project: The Art of Neighborhoo...</td>\n      <td>Film &amp; Video</td>\n      <td>Film &amp; Video</td>\n      <td>USD</td>\n      <td>2015-08-29</td>\n      <td>19500.0</td>\n      <td>2015-07-04 08:35:03</td>\n      <td>1283.0</td>\n      <td>canceled</td>\n      <td>14</td>\n      <td>US</td>\n      <td>1283.0</td>\n      <td>1283.0</td>\n      <td>19500.00</td>\n      <td>0</td>\n      <td>8</td>\n      <td>4</td>\n      <td>7</td>\n      <td>2015</td>\n    </tr>\n  </tbody>\n</table>\n</div>",
      "text/plain": "           ID                                               name  \\\n0  1000002330                    The Songs of Adelaide & Abullah   \n1  1000003930      Greeting From Earth: ZGAC Arts Capsule For ET   \n2  1000004038                                     Where is Hank?   \n3  1000007540  ToshiCapital Rekordz Needs Help to Complete Album   \n4  1000011046  Community Film Project: The Art of Neighborhoo...   \n\n         category main_category currency   deadline     goal  \\\n0          Poetry    Publishing      GBP 2015-10-09   1000.0   \n1  Narrative Film  Film & Video      USD 2017-11-01  30000.0   \n2  Narrative Film  Film & Video      USD 2013-02-26  45000.0   \n3           Music         Music      USD 2012-04-16   5000.0   \n4    Film & Video  Film & Video      USD 2015-08-29  19500.0   \n\n             launched  pledged     state  backers country  usd pledged  \\\n0 2015-08-11 12:12:28      0.0    failed        0      GB          0.0   \n1 2017-09-02 04:43:57   2421.0    failed       15      US        100.0   \n2 2013-01-12 00:20:50    220.0    failed        3      US        220.0   \n3 2012-03-17 03:24:11      1.0    failed        1      US          1.0   \n4 2015-07-04 08:35:03   1283.0  canceled       14      US       1283.0   \n\n   usd_pledged_real  usd_goal_real  outcome  hour  day  month  year  \n0               0.0        1533.95        0    12   11      8  2015  \n1            2421.0       30000.00        0     4    2      9  2017  \n2             220.0       45000.00        0     0   12      1  2013  \n3               1.0        5000.00        0     3   17      3  2012  \n4            1283.0       19500.00        0     8    4      7  2015  "
     },
     "execution_count": 5,
     "metadata": {},
     "output_type": "execute_result"
    }
   ],
   "source": [
    "# Note that this below syntax doesn't work on a single Timestamp object. dt must be used on a column\n",
    "#    kst_data['launched'][0].dt\n",
    "\n",
    "kst_data = kst_data.assign(\n",
    "    hour=kst_data.launched.dt.hour,\n",
    "    day=kst_data.launched.dt.day,\n",
    "    month=kst_data.launched.dt.month,\n",
    "    year=kst_data.launched.dt.year\n",
    ")\n",
    "kst_data.head()"
   ]
  },
  {
   "cell_type": "markdown",
   "metadata": {},
   "outputs": [],
   "source": [
    "### Prepping categorical variables\n",
    "Now we that both our outcome AND timestamp data setup, it's time to get our other categorical variables in check! For our model, we'll be using *category*, *currency*, and *country*, which all need to be converted into integer representations. We'll use scikit-learn's ```LabelEncoder``` for this."
   ]
  },
  {
   "cell_type": "code",
   "execution_count": 6,
   "metadata": {},
   "outputs": [],
   "source": [
    "# print(kst_data.groupby('category')['ID'].nunique())\n",
    "# print(kst_data.groupby('currency')['ID'].nunique())\n",
    "# print(kst_data.groupby('country')['ID'].nunique())"
   ]
  },
  {
   "cell_type": "code",
   "execution_count": 7,
   "metadata": {},
   "outputs": [
    {
     "data": {
      "text/html": "<div>\n<style scoped>\n    .dataframe tbody tr th:only-of-type {\n        vertical-align: middle;\n    }\n\n    .dataframe tbody tr th {\n        vertical-align: top;\n    }\n\n    .dataframe thead th {\n        text-align: right;\n    }\n</style>\n<table border=\"1\" class=\"dataframe\">\n  <thead>\n    <tr style=\"text-align: right;\">\n      <th></th>\n      <th>category</th>\n      <th>currency</th>\n      <th>country</th>\n    </tr>\n  </thead>\n  <tbody>\n    <tr>\n      <td>0</td>\n      <td>108</td>\n      <td>5</td>\n      <td>9</td>\n    </tr>\n    <tr>\n      <td>1</td>\n      <td>93</td>\n      <td>13</td>\n      <td>22</td>\n    </tr>\n    <tr>\n      <td>2</td>\n      <td>93</td>\n      <td>13</td>\n      <td>22</td>\n    </tr>\n    <tr>\n      <td>3</td>\n      <td>90</td>\n      <td>13</td>\n      <td>22</td>\n    </tr>\n    <tr>\n      <td>4</td>\n      <td>55</td>\n      <td>13</td>\n      <td>22</td>\n    </tr>\n    <tr>\n      <td>5</td>\n      <td>123</td>\n      <td>13</td>\n      <td>22</td>\n    </tr>\n    <tr>\n      <td>6</td>\n      <td>58</td>\n      <td>13</td>\n      <td>22</td>\n    </tr>\n    <tr>\n      <td>7</td>\n      <td>41</td>\n      <td>13</td>\n      <td>22</td>\n    </tr>\n    <tr>\n      <td>8</td>\n      <td>113</td>\n      <td>13</td>\n      <td>22</td>\n    </tr>\n    <tr>\n      <td>9</td>\n      <td>39</td>\n      <td>13</td>\n      <td>22</td>\n    </tr>\n  </tbody>\n</table>\n</div>",
      "text/plain": "   category  currency  country\n0       108         5        9\n1        93        13       22\n2        93        13       22\n3        90        13       22\n4        55        13       22\n5       123        13       22\n6        58        13       22\n7        41        13       22\n8       113        13       22\n9        39        13       22"
     },
     "execution_count": 7,
     "metadata": {},
     "output_type": "execute_result"
    }
   ],
   "source": [
    "from sklearn.preprocessing import LabelEncoder\n",
    "\n",
    "cat_features = ['category', 'currency', 'country']\n",
    "encoder = LabelEncoder()\n",
    "\n",
    "# Apply the label encoder to each column\n",
    "encoded_kst = kst_data[cat_features].apply(encoder.fit_transform)\n",
    "encoded_kst.head(10)"
   ]
  },
  {
   "cell_type": "markdown",
   "metadata": {},
   "outputs": [],
   "source": [
    "Great! Now let's gather all of the columns we're using for this model into a new, clean little dataframe. Because our original dataframe and our encoded dataframe have the same index, we can ```join``` them together easily."
   ]
  },
  {
   "cell_type": "code",
   "execution_count": 8,
   "metadata": {},
   "outputs": [
    {
     "data": {
      "text/html": "<div>\n<style scoped>\n    .dataframe tbody tr th:only-of-type {\n        vertical-align: middle;\n    }\n\n    .dataframe tbody tr th {\n        vertical-align: top;\n    }\n\n    .dataframe thead th {\n        text-align: right;\n    }\n</style>\n<table border=\"1\" class=\"dataframe\">\n  <thead>\n    <tr style=\"text-align: right;\">\n      <th></th>\n      <th>goal</th>\n      <th>hour</th>\n      <th>day</th>\n      <th>month</th>\n      <th>year</th>\n      <th>outcome</th>\n      <th>category</th>\n      <th>currency</th>\n      <th>country</th>\n    </tr>\n  </thead>\n  <tbody>\n    <tr>\n      <td>0</td>\n      <td>1000.0</td>\n      <td>12</td>\n      <td>11</td>\n      <td>8</td>\n      <td>2015</td>\n      <td>0</td>\n      <td>108</td>\n      <td>5</td>\n      <td>9</td>\n    </tr>\n    <tr>\n      <td>1</td>\n      <td>30000.0</td>\n      <td>4</td>\n      <td>2</td>\n      <td>9</td>\n      <td>2017</td>\n      <td>0</td>\n      <td>93</td>\n      <td>13</td>\n      <td>22</td>\n    </tr>\n    <tr>\n      <td>2</td>\n      <td>45000.0</td>\n      <td>0</td>\n      <td>12</td>\n      <td>1</td>\n      <td>2013</td>\n      <td>0</td>\n      <td>93</td>\n      <td>13</td>\n      <td>22</td>\n    </tr>\n    <tr>\n      <td>3</td>\n      <td>5000.0</td>\n      <td>3</td>\n      <td>17</td>\n      <td>3</td>\n      <td>2012</td>\n      <td>0</td>\n      <td>90</td>\n      <td>13</td>\n      <td>22</td>\n    </tr>\n    <tr>\n      <td>4</td>\n      <td>19500.0</td>\n      <td>8</td>\n      <td>4</td>\n      <td>7</td>\n      <td>2015</td>\n      <td>0</td>\n      <td>55</td>\n      <td>13</td>\n      <td>22</td>\n    </tr>\n  </tbody>\n</table>\n</div>",
      "text/plain": "      goal  hour  day  month  year  outcome  category  currency  country\n0   1000.0    12   11      8  2015        0       108         5        9\n1  30000.0     4    2      9  2017        0        93        13       22\n2  45000.0     0   12      1  2013        0        93        13       22\n3   5000.0     3   17      3  2012        0        90        13       22\n4  19500.0     8    4      7  2015        0        55        13       22"
     },
     "execution_count": 8,
     "metadata": {},
     "output_type": "execute_result"
    }
   ],
   "source": [
    "# kst_data has our hand-encoded hour, day, month, year, and outcome while 'encoded' has the labelencoded data. They both have the same index, so join join join!\n",
    "data = kst_data[['goal', 'hour', 'day', 'month', 'year', 'outcome']].join(encoded_kst)\n",
    "data.head()"
   ]
  },
  {
   "cell_type": "markdown",
   "execution_count": null,
   "metadata": {},
   "outputs": [],
   "source": [
    "### Creating training, validation, and test splits\n",
    "Ain't our data pretty? Now that's it's ready to go, it's time to split up our data into training, validation and test splits! Since this is just a quick review, let's take a simple approach just use slices of our data. We'll use 10% of the data as validation, 10% for testing, and 80% for training.\n",
    "\n",
    "**Note:** For python beginners (like me), there are extra steps/comments below to explain the indexing in the end"
   ]
  },
  {
   "cell_type": "code",
   "execution_count": 69,
   "metadata": {},
   "outputs": [
    {
     "name": "stdout",
     "output_type": "stream",
     "text": "len of data: 375862\nvalid size: 37586\n80% of the dataset: 300690\nFull data size - 80% data size: 75172\nvalid_size doubled: 75172\nLength of train/valid/test: 300690/37586/37586\n"
    }
   ],
   "source": [
    "valid_fraction = 0.1\n",
    "valid_size = int(len(data) * valid_fraction)\n",
    "\n",
    "print(\"len of data: {}\".format(len(data)))\n",
    "print(\"valid size: {}\".format(valid_size))\n",
    "# The below indexing is a little confusing, so let's analyze it\n",
    "# We need 80% of the set for training\n",
    "print(\"80% of the dataset: {}\".format(round(len(data) * 0.8)))\n",
    "# This comes out to 300689, which is a difference of...\n",
    "print( \"Full data size - 80% data size: {}\".format(round(len(data) - (len(data) * 0.8))))\n",
    "# 75172! ... hmmmmmm now why are we using 2 * valid_size below?\n",
    "print(\"valid_size doubled: {}\".format(valid_size * 2))\n",
    "# They're the same!!! valid_size * 2 === the difference from above!\n",
    "# Oh ya.... valid_fraction = 0.1, so 100% - (10% * 2) = 80% .... I see\n",
    "\n",
    "# Remember that python uses the colon as [start:end] accessor, and using negatives gives us the opposite, so [:1] is from start to the first element, and [:-1] is from the start, to the end-1\n",
    "\n",
    "# start : end - (valid_size * 2), [0 : 375862 - 75173]\n",
    "train = data[:-2 * valid_size]\n",
    "# end - (valid_size*2) : end - valid_size, [375862 - 75173 : 375862 - 37586]\n",
    "valid = data[-2 * valid_size:-valid_size]\n",
    "# end - valid_size : end, 375862 - 37586 : 375826]\n",
    "test = data[-valid_size:]\n",
    "\n",
    "print(\"Length of train/valid/test: {}/{}/{}\".format(len(train), len(valid), len(test)))"
   ]
  },
  {
   "cell_type": "markdown",
   "execution_count": null,
   "metadata": {},
   "outputs": [],
   "source": [
    "In general, we want to be careful that each data set has the same proportion of the target classes (keep spliced data balanced). Let's print out the fraction of successful outcomes from each dataset to confirm:"
   ]
  },
  {
   "cell_type": "code",
   "execution_count": 72,
   "metadata": {},
   "outputs": [
    {
     "name": "stdout",
     "output_type": "stream",
     "text": "Outcome fraction = 0.3570\nOutcome fraction = 0.3539\nOutcome fraction = 0.3542\n"
    }
   ],
   "source": [
    "# In the above block, we used traditional Python3 string formatting.\n",
    "# Below, we use the new 3.6 F-strings!\n",
    "# The below statement would most similary equal:\n",
    "#   print(\"Outcome fraction = {:.4f}\".format(each.outcome.mean()))\n",
    "\n",
    "for each in [train, valid, test]:\n",
    "    print(f\"Outcome fraction = {each.outcome.mean():.4f}\")"
   ]
  },
  {
   "cell_type": "markdown",
   "execution_count": null,
   "metadata": {},
   "outputs": [],
   "source": [
    "As we can see, each splice has around 35% true outcomes, likely because the data was well randomized beforehand. If this weren't the case, we could have used a helpful sklearn method: ```sklearn.model_selection.StratifiedShuffleSplit```.\n",
    "\n",
    "### Training a LightGBM model\n"
   ]
  },
  {
   "cell_type": "markdown",
   "metadata": {},
   "outputs": [],
   "source": [
    "## 2. Categorical Encodings"
   ]
  },
  {
   "cell_type": "markdown",
   "metadata": {},
   "outputs": [],
   "source": [
    "## 3. Feature Generation"
   ]
  },
  {
   "cell_type": "markdown",
   "metadata": {},
   "outputs": [],
   "source": [
    "## 4. Feature Selection"
   ]
  }
 ]
}