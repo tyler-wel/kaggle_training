{
 "nbformat": 4,
 "nbformat_minor": 2,
 "metadata": {
  "language_info": {
   "name": "python",
   "codemirror_mode": {
    "name": "ipython",
    "version": 3
   },
   "version": "3.7.4"
  },
  "orig_nbformat": 2,
  "file_extension": ".py",
  "mimetype": "text/x-python",
  "name": "python",
  "npconvert_exporter": "python",
  "pygments_lexer": "ipython3",
  "version": 3
 },
 "cells": [
  {
   "cell_type": "markdown",
   "execution_count": null,
   "metadata": {},
   "outputs": [],
   "source": [
    "# Feature Engineering Ad Clicks Exercise\n",
    "\n",
    "The dataset we will be using for this exercise is a sample from 'TalkingData AdTracking' Kaggle competition. All positive samples (where is_attributed == 1) was kept, while 99% of negative samples we're discarded. This sample has roughly 20% positive examples.\n",
    "The data has the following features: (note id, app, device, os, and channel are encoded).\n",
    "\n",
    "The overall goal is to predict whether a user will download an app after clicking a mobile ad.\n",
    "\n",
    "[1. Baseline Modeling](#baseline)  \n",
    "[2. Categorical Encoding](#encode)  \n",
    "[3. Feature Generation](#generate)  \n",
    "[4. Feature Selection](#select)\n",
    "\n",
    "\n",
    "#### Note to self:\n",
    "- **click_data** is the raw imported data\n",
    "- **clicks** is timestamp and label encoded\n",
    "\n",
    "<a id='baseline'></a>\n",
    "## 1. Baseline Modeling\n",
    "Using what we learned in the overview, let's setup our baseline model.\n"
   ]
  },
  {
   "cell_type": "code",
   "execution_count": null,
   "metadata": {},
   "outputs": [],
   "source": [
    "%reload_ext autoreload\n",
    "%autoreload 2\n",
    "import pandas as pd\n",
    "import numpy as np\n",
    "from my_modules import data_imports as data\n",
    "from my_modules import feature_engineering as fe\n",
    "from termcolor import colored, cprint\n",
    "\n",
    "click_data = data.import_ad_clicks_data()\n",
    "click_data.head(10)\n",
    "\n",
    "score_dict = {}"
   ]
  },
  {
   "cell_type": "markdown",
   "execution_count": null,
   "metadata": {},
   "outputs": [],
   "source": [
    "### Basic Feature Engineering\n",
    "Before jumping into the deepend of feature engineering, we need a base model to build off. So let's do some simple engineering:\n",
    "- Dealing with Timestamps\n",
    "- Label Encoding\n",
    "#### Timestamps"
   ]
  },
  {
   "cell_type": "code",
   "execution_count": null,
   "metadata": {},
   "outputs": [],
   "source": [
    "# Timestamps\n",
    "clicks = click_data.copy()\n",
    "clicks['day'] = clicks['click_time'].dt.day.astype('uint8')\n",
    "clicks['hour'] = clicks['click_time'].dt.hour.astype('uint8')\n",
    "clicks['minute'] = clicks['click_time'].dt.minute.astype('uint8')\n",
    "clicks['second'] = clicks['click_time'].dt.second.astype('uint8')\n",
    "\n",
    "print(clicks.head())\n"
   ]
  },
  {
   "cell_type": "markdown",
   "execution_count": null,
   "metadata": {},
   "outputs": [],
   "source": [
    "#### Label Encoding\n",
    "For the baseline model, let's just use skikit-learn's ```LabelEncoder``` to create new features in the clicks **DataFrame**. The new columns should be the original name with *_labels* appended.\n"
   ]
  },
  {
   "cell_type": "code",
   "execution_count": null,
   "metadata": {},
   "outputs": [],
   "source": [
    "from sklearn.preprocessing import LabelEncoder\n",
    "\n",
    "cat_features = ['ip', 'app', 'device', 'os', 'channel']\n",
    "encoder = LabelEncoder()\n",
    "\n",
    "for feature in cat_features:\n",
    "    encoded = encoder.fit_transform(clicks[feature])\n",
    "    clicks[feature + '_labels'] = encoded\n",
    "\n",
    "clicks.head()\n"
   ]
  },
  {
   "cell_type": "markdown",
   "execution_count": null,
   "metadata": {},
   "outputs": [],
   "source": [
    "### Train/Test/Validate Splits\n",
    "There is one thing we need to be careful with regarding our data.\n",
    "\n",
    "#### Time Series\n",
    "Our data is a *time series*. Date and time matter in regards to train and test sets. Since our model needs to predict events in the future, we must also make sure we validate the model on events in the future. If the data is mixed up between training and test sets, then future data will leak in to the model and our validationr esults will overestimate the performance on new data.\n",
    "\n",
    "Let's first sort in order of increasing time. The first 80% of rows will become the train set, the next 10% will be validation, and last 10% will be our test set."
   ]
  },
  {
   "cell_type": "code",
   "execution_count": null,
   "metadata": {},
   "outputs": [],
   "source": [
    "base_feature_cols = ['day', 'hour', 'minute', 'second',\n",
    "                'ip_labels', 'app_labels', 'device_labels',\n",
    "                'os_labels', 'channel_labels']\n",
    "# Split implementation moved to my_modules\n",
    "base_train, base_valid, base_test = fe.get_ad_splits(clicks)"
   ]
  },
  {
   "cell_type": "markdown",
   "execution_count": null,
   "metadata": {},
   "outputs": [],
   "source": [
    "### LightGBM Training\n",
    "Now let's construct LightGBM dataset objects for each of the smaller datasets."
   ]
  },
  {
   "cell_type": "code",
   "execution_count": null,
   "metadata": {},
   "outputs": [],
   "source": [
    "# bst, valid_score = fe.train_ad_model(base_train, base_valid, feature_cols=base_feature_cols)"
   ]
  },
  {
   "cell_type": "markdown",
   "execution_count": null,
   "metadata": {},
   "outputs": [],
   "source": [
    "<a id='encode'></a>\n",
    "## <font color=blue>2. Categorical Encoding</font>\n",
    "Now let's get started by implementing some more complicated encoding and testing them using our ```train_ad_model``` function. We'll be implementing the following encodings:\n",
    "- Count Encoding\n",
    "- Target Encoding\n",
    "- CatBoost Encoding"
   ]
  },
  {
   "cell_type": "code",
   "execution_count": null,
   "metadata": {},
   "outputs": [],
   "source": [
    "# click_data is the clean imported data\n",
    "# clicks is timestamp and label encoded\n",
    "\n",
    "# Let's do a check on unencoded data\n",
    "print(colored(\"Unencoded Model\", 'yellow'))\n",
    "train, valid, test = fe.get_ad_splits(click_data)\n",
    "unencoded_sc = fe.train_ad_model(train, valid)\n",
    "print(colored(\"Baseline Model (Timestamp + Simple Label Encoding)\", 'yellow'))\n",
    "baseline_sc = fe.train_ad_model(base_train, base_valid, feature_cols=base_feature_cols)"
   ]
  },
  {
   "cell_type": "code",
   "execution_count": null,
   "metadata": {},
   "outputs": [],
   "source": [
    "score_dict[\"Unencoded\"] = unencoded_sc[1]\n",
    "score_dict[\"Baseline\"] = baseline_sc[1]"
   ]
  },
  {
   "cell_type": "markdown",
   "execution_count": null,
   "metadata": {},
   "outputs": [],
   "source": [
    "#### Quick note on encoding and leakages\n",
    "This model were working with has calculated statistics and counts. The current columns are:\n",
    "- ip\n",
    "- app\n",
    "- device\n",
    "- os\n",
    "- channel\n",
    "- click_time\n",
    "- attributed_time\n",
    "- is_attributed (target)\n",
    "\n",
    "In regards to data leakages, we need to be careful to make sure that we calculate the encodings from ONLY the training set, to avoid overestimating the model's performance.\n",
    "\n",
    "### Count encodings\n",
    "- Count encoding is based on *replacing categories with their counts* computed on the train set.\n",
    "\n",
    "First off, let's count encode the features ```['ip', 'app', 'device', 'os', 'channel'] ``` using ```CountEncoder```. \n",
    "\n",
    "Because we need to avoid data leakage as pointed out above, we need to be sure to first **fit** *then* **transform** our data. This way, our encoding is only fit to the training data and not the valid/test sets."
   ]
  },
  {
   "cell_type": "code",
   "execution_count": null,
   "metadata": {},
   "outputs": [],
   "source": [
    "import category_encoders as ce\n",
    "\n",
    "cat_features = ['ip', 'app', 'device', 'os', 'channel']\n",
    "train, valid, test = fe.get_ad_splits(clicks)\n",
    "\n",
    "# count encoder\n",
    "count_enc = ce.CountEncoder(cols=cat_features)\n",
    "\n",
    "# learn the encoding from the training set\n",
    "count_enc.fit(train[cat_features])\n",
    "\n",
    "# apply the fit encoding to the training and valid sets\n",
    "train_encoded = train.join(count_enc.transform(train[cat_features]).add_suffix('_count'))\n",
    "valid_encoded = valid.join(count_enc.transform(valid[cat_features]).add_suffix('_count'))\n",
    "\n",
    "count_sc = fe.train_ad_model(train_encoded, valid_encoded)"
   ]
  },
  {
   "cell_type": "code",
   "execution_count": null,
   "metadata": {},
   "outputs": [],
   "source": [
    "score_dict[\"Count\"] = count_sc[1]\n",
    "fe.print_scores(score_dict)"
   ]
  },
  {
   "cell_type": "markdown",
   "execution_count": null,
   "metadata": {},
   "outputs": [],
   "source": [
    "#### Sidenote: Why is count encoding effective?\n",
    "One reason count encoding works is because rare values tend to have similar counts (with values like 1 or 2), so you can easily classify rare values together at prediction time. Common values with large counts are unlikely to have the same count as other values. So,m the common/important values get their own groupings with count encoding.\n",
    "\n",
    "### Target Encoding\n",
    "- Target encoding is the *process of replacing a categorical value with the mean of the target variable* based on the train set (be carful of data leakage).\n",
    "\n",
    "We'll be using the same ```['ip', 'app', 'device', 'os', 'channel'] ``` for target encoding the train set.\n"
   ]
  },
  {
   "cell_type": "code",
   "execution_count": null,
   "metadata": {},
   "outputs": [],
   "source": [
    "cat_features = ['ip', 'app', 'device', 'os', 'channel']\n",
    "train, valid, test = fe.get_ad_splits(clicks)\n",
    "\n",
    "# target_encoder\n",
    "target_enc = ce.TargetEncoder(cols=cat_features)\n",
    "\n",
    "target_enc.fit(train[cat_features], train['is_attributed'])\n",
    "\n",
    "# apply the encoding\n",
    "train_encoded = train.join(target_enc.transform(train[cat_features]).add_suffix('_target'))\n",
    "valid_encoded = valid.join(target_enc.transform(valid[cat_features]).add_suffix('_target'))\n",
    "\n",
    "target_sc = fe.train_ad_model(train_encoded, valid_encoded)"
   ]
  },
  {
   "cell_type": "code",
   "execution_count": null,
   "metadata": {},
   "outputs": [],
   "source": [
    "score_dict[\"Target w/ ip\"]= target_sc[1]\n",
    "fe.print_scores(score_dict)"
   ]
  },
  {
   "cell_type": "markdown",
   "execution_count": null,
   "metadata": {},
   "outputs": [],
   "source": [
    "Well our target score isn't as good as we had hoped. As pointed out by our great friend Kaggle, upon dropping ```ip``` from our categorical encoded features, our model actually improves. Why is that?\n",
    "\n",
    "Target encoding attemps to measure the population mean of the target for each level in the categorical feature. This means when there is less data per level, the estimated mean will be further away from the 'true' mean. There is very little data per IP address, meaning less data per level, so it's more likely that the estimates are much noisier than they should be. The model will rely heavily on this feature because of it's extremely predictive. This, in a way, overtrains our model and will perform poorly when introduced to new IP addresses. Going forward, let's leave IP out of it."
   ]
  },
  {
   "cell_type": "code",
   "execution_count": null,
   "metadata": {},
   "outputs": [],
   "source": [
    "cat_features = ['app', 'device', 'os', 'channel']\n",
    "train, valid, test = fe.get_ad_splits(clicks)\n",
    "\n",
    "# target_encoder\n",
    "target_enc = ce.TargetEncoder(cols=cat_features)\n",
    "\n",
    "target_enc.fit(train[cat_features], train['is_attributed'])\n",
    "\n",
    "# apply the encoding\n",
    "train_encoded = train.join(target_enc.transform(train[cat_features]).add_suffix('_target'))\n",
    "valid_encoded = valid.join(target_enc.transform(valid[cat_features]).add_suffix('_target'))\n",
    "\n",
    "target_sc_no_ip = fe.train_ad_model(train_encoded, valid_encoded)"
   ]
  },
  {
   "cell_type": "code",
   "execution_count": null,
   "metadata": {},
   "outputs": [],
   "source": [
    "score_dict[\"Target w/o ip\"] = target_sc_no_ip[1]\n",
    "fe.print_scores(score_dict)"
   ]
  },
  {
   "cell_type": "markdown",
   "execution_count": null,
   "metadata": {},
   "outputs": [],
   "source": [
    "### CatBoost\n",
    "CatBoost Encoder is very similar to leave-one-out encoding, but calculates the values 'on-the-fly'. It is said to work fairly well with LightGBM.\n",
    "\n",
    "#### Sidenote: ```leave-one-out``` encoding\n",
    "```leave-one-out``` encoding is very similar to target encoding but excludes the current row's target when calculating the mean target for a level.\n"
   ]
  },
  {
   "cell_type": "code",
   "execution_count": null,
   "metadata": {},
   "outputs": [],
   "source": [
    "cat_features = ['app', 'device', 'os', 'channel']\n",
    "train, valid, test = fe.get_ad_splits(clicks)\n",
    "\n",
    "cb_enc = ce.CatBoostEncoder(cols=cat_features)\n",
    "\n",
    "cb_enc.fit(train[cat_features], train['is_attributed'])\n",
    "\n",
    "train_encoded = train.join(cb_enc.transform(train[cat_features]).add_suffix('_cb'))\n",
    "valid_encoded = valid.join(cb_enc.transform(valid[cat_features]).add_suffix('_cb'))\n",
    "\n",
    "cb_sc = fe.train_ad_model(train_encoded, valid_encoded)"
   ]
  },
  {
   "cell_type": "code",
   "execution_count": null,
   "metadata": {},
   "outputs": [],
   "source": [
    "score_dict[\"CatBoosting\"] = cb_sc[1]\n",
    "fe.print_scores(score_dict)"
   ]
  },
  {
   "cell_type": "markdown",
   "execution_count": null,
   "metadata": {},
   "outputs": [],
   "source": [
    "### Results\n",
    "Out of all of the encodings we tried, 'Target w/o ip' and 'CatBoosting' performed the best. \n",
    "<a id='generate'></a>\n",
    "## 3. Generating Features\n",
    "Now let's go over some feature generation with our data (clicks).\n",
    "\n",
    "### Adding interaction features\n",
    "Let's add interaction features (combining categorical features) for each pair of categorical features (app, device, os, channel). The easiest way to accomplish this is by using ```itertools.combinations```. For each new column, we must join the values as strings with an underscore, so 13 and 47 will become ```\"13_47\"```. We also need to make sure to labelencode the new features.\n"
   ]
  },
  {
   "cell_type": "code",
   "execution_count": null,
   "metadata": {},
   "outputs": [],
   "source": [
    "from itertools import combinations\n",
    "\n",
    "cat_features = ['ip', 'app', 'device', 'os', 'channel']\n",
    "interactions = pd.DataFrame(index=clicks.index)\n",
    "label_enc = LabelEncoder()\n",
    "for comb in combinations(cat_features, 2):\n",
    "    new_feat = comb[0] + \"_\" + comb[1]\n",
    "    interactions[new_feat]= label_enc.fit_transform(\n",
    "        clicks[comb[0]].astype(str) + \"_\" + clicks[comb[1]].astype(str)\n",
    "    )\n",
    "cprint('Label Encoded Interactions', 'cyan')\n",
    "print(interactions.head(10))\n",
    "\n",
    "clicks = clicks.join(interactions)\n",
    "cprint('Clicks w/ interactions', 'cyan')\n",
    "print(clicks.head(10))"
   ]
  },
  {
   "cell_type": "code",
   "execution_count": null,
   "metadata": {},
   "outputs": [],
   "source": [
    "train, valid, test = fe.get_ad_splits(clicks)\n",
    "inter_score = fe.train_ad_model(train, valid)\n"
   ]
  },
  {
   "cell_type": "code",
   "execution_count": null,
   "metadata": {},
   "outputs": [],
   "source": [
    "score_dict[\"Interactions\"] = inter_score[1]\n",
    "fe.print_scores(score_dict)"
   ]
  },
  {
   "cell_type": "markdown",
   "execution_count": null,
   "metadata": {},
   "outputs": [],
   "source": [
    "### Adding numerical features\n",
    "Adding interactions for categorical columns is quick and easy way to create more categorical data. It's also a good idea to add numeric features which will typically improve our model. Numerical features take a little bit of experimenting and brainstorming, but luckily our Kaggle mentors have given us ideas. \n",
    "\n",
    "#### Number of events in the past six hours\n",
    "The first feature we'll create is the number of events from the same ip in the list six hours. It's likely that someone who is visiting often will be more likely to download the app.\n",
    "\n",
    "Let's implement a function ```count_past_events``` that takes a series of click times (timestamps) and returns another Series with the number of events in the last hour."
   ]
  },
  {
   "cell_type": "code",
   "execution_count": null,
   "metadata": {},
   "outputs": [],
   "source": [
    "def count_past_events(series):\n",
    "    \"\"\"\n",
    "    return number of events in the last hour\n",
    "        series: Series of click times (timestamps)\n",
    "    \"\"\"\n",
    "    # Assign time as the index so we can sort and roll\n",
    "    conv = pd.Series(series.index, index=series).sort_index()\n",
    "    return conv.rolling('6h').count() - 1\n",
    "\n",
    "past_events = count_past_events(clicks.click_time)\n",
    "clicks['ip_past_6hr_counts'] = past_events.values\n",
    "train, valid, _ = fe.get_ad_splits(clicks)\n",
    "num_feat_score = fe.train_ad_model(train, valid)"
   ]
  },
  {
   "cell_type": "code",
   "execution_count": null,
   "metadata": {},
   "outputs": [],
   "source": [
    "score_dict[\"Num Feature\"] = num_feat_score[1]\n",
    "fe.print_scores(score_dict)"
   ]
  },
  {
   "cell_type": "markdown",
   "execution_count": null,
   "metadata": {},
   "outputs": [],
   "source": [
    "#### Time since last events\n",
    "Next we'll implement a ```time_diff``` method that calculates the time since the last event in seconds from a Series of timestamps."
   ]
  },
  {
   "cell_type": "code",
   "execution_count": null,
   "metadata": {},
   "outputs": [],
   "source": [
    "def time_diff(series):\n",
    "    \"\"\"Returns a series with the time since the last timestamp in seconds\"\"\"\n",
    "    return series.diff().dt.total_seconds()\n",
    "\n",
    "timedeltas = clicks.groupby('ip')['click_time'].transform(time_diff)\n",
    "timedeltas"
   ]
  },
  {
   "cell_type": "code",
   "execution_count": null,
   "metadata": {},
   "outputs": [],
   "source": [
    "# lets fill in NaNs with median and reindex\n",
    "timedeltas = timedeltas.fillna(timedeltas.median()).reindex(clicks.index)\n",
    "cprint('Fixed timedeltas', 'cyan')\n",
    "print(timedeltas.head(10))\n",
    "clicks['time_since_last'] = timedeltas"
   ]
  },
  {
   "cell_type": "code",
   "execution_count": null,
   "metadata": {},
   "outputs": [],
   "source": [
    "train, valid, _ = fe.get_ad_splits(clicks)\n",
    "timedelta_score = fe.train_ad_model(train, valid)"
   ]
  },
  {
   "cell_type": "code",
   "execution_count": null,
   "metadata": {},
   "outputs": [],
   "source": [
    "score_dict['timedeltas'] = timedelta_score[1]\n",
    "fe.print_scores(score_dict)"
   ]
  },
  {
   "cell_type": "markdown",
   "execution_count": null,
   "metadata": {},
   "outputs": [],
   "source": [
    "#### Number of previous app downloads\n",
    "It's likely that if a visitor downlaoded an app previously, it'll affect the likelihood they'll download one again. Let's implement ```previous_attributions``` that returns a Series with the number of trimes an app has been downloaded (where ```is_attributed == 1```) before the current event."
   ]
  },
  {
   "cell_type": "code",
   "execution_count": null,
   "metadata": {},
   "outputs": [],
   "source": [
    "# Hint: Here we want a window that always starts at the first row but expands as we get further in the data. \n",
    "# We can use the .expanding methods for this. Also, the current row is included in the window, so we need to subtract that off as well\n",
    "\n",
    "def previous_attributions(series):\n",
    "    \"\"\" returns a series with the number of previous number of downloads \"\"\"\n",
    "    return series.expanding(2).sum() - series\n",
    "\n",
    "past = previous_attributions(clicks.is_attributed)\n",
    "clicks['prev_clicks'] = past\n",
    "train, valid, _ = fe.get_ad_splits(clicks)\n",
    "prev_clicks_score = fe.train_ad_model(train, valid)"
   ]
  },
  {
   "cell_type": "code",
   "execution_count": null,
   "metadata": {},
   "outputs": [],
   "source": [
    "score_dict['prev_clicks'] = timedelta_score[1]\n",
    "fe.print_scores(score_dict)"
   ]
  },
  {
   "cell_type": "markdown",
   "execution_count": null,
   "metadata": {},
   "outputs": [],
   "source": [
    "<a id='select'></a>\n",
    "## 4. Feature Selection\n",
    "In this last part of our exercise, we'll use feature selection algorithms to improve our model. Let's get setup for this section.\n"
   ]
  },
  {
   "cell_type": "code",
   "execution_count": null,
   "metadata": {},
   "outputs": [],
   "source": [
    "# inter_clicks, num_feat_clicks, time_clicks, prev_clicks\n",
    "# n = clicks.merge(inter_clicks, how='outer', suffixes=('', ''))\n",
    "train, valid, _ = fe.get_ad_splits(clicks)\n",
    "cprint('Feature Selection Baseline Score', 'cyan')\n",
    "_ = fe.train_ad_model(train, valid)\n",
    "cprint(f'Number of columns: {len(clicks.columns)}', 'green')\n"
   ]
  },
  {
   "cell_type": "markdown",
   "execution_count": null,
   "metadata": {},
   "outputs": [],
   "source": [
    "Moving forward, we'll want to make sure to only use the training set for selecting which features to use. Currently, our model has __ features which may cause overfitting. Removing some features will help counteract this overfitting, but may decrease the performance slightly. But at least we'll be making the model smaller and faster without losing too much performance.\n",
    "\n",
    "### Univariate Feature Selection\n",
    "Let's start by reviewing/using ```SelectKBest``` with the ```f_classif``` scoring function."
   ]
  },
  {
   "cell_type": "code",
   "execution_count": null,
   "metadata": {},
   "outputs": [],
   "source": [
    "from sklearn.feature_selection import SelectKBest, f_classif\n",
    "\n",
    "# remove target-related columns and split\n",
    "feature_cols = clicks.columns.drop(['click_time', 'attributed_time', 'is_attributed'])\n",
    "train, valid, test = fe.get_ad_splits(clicks)\n",
    "\n",
    "# create the selector, let's keep 20 features\n",
    "selector = SelectKBest(f_classif, k=20)\n",
    "\n",
    "# there was a slight error with previos data, first value of prev_clicks was NaN, filling in with 0\n",
    "train['prev_clicks'][0] = 0\n",
    "\n",
    "# use selector to get the best features\n",
    "X_new = selector.fit_transform(train[feature_cols], train['is_attributed'])\n",
    "# X_new\n",
    "\n",
    "# get back the kept features as a DataFrame with the dropped columns as all 0s\n",
    "selected_features = pd.DataFrame(selector.inverse_transform(X_new),\n",
    "                                 index=train.index,\n",
    "                                 columns=feature_cols)\n",
    "# selected_features\n",
    "\n",
    "# Find the columns that were kept/dropped\n",
    "dropped_columns = selected_features.columns[selected_features.var() == 0]\n",
    "selected_features = selected_features.columns[selected_features.var() != 0]"
   ]
  },
  {
   "cell_type": "code",
   "execution_count": null,
   "metadata": {},
   "outputs": [],
   "source": [
    "cprint(f'Dropped Columns ({len(dropped_columns)})', 'blue')\n",
    "print(dropped_columns)\n",
    "cprint(f'Kept Columns ({len(selected_features)})', 'green')\n",
    "print(selected_features)"
   ]
  },
  {
   "cell_type": "code",
   "execution_count": null,
   "metadata": {},
   "outputs": [],
   "source": [
    "cprint('Feature Selection KBest Score', 'cyan')\n",
    "_ = fe.train_ad_model(train.drop(dropped_columns, axis=1), valid.drop(dropped_columns, axis=1))\n",
    "cprint('Feature Selection KBest Score (Using dropped columns)', 'cyan')\n",
    "_ = fe.train_ad_model(train.drop(selected_features, axis=1), valid.drop(selected_features, axis=1)) "
   ]
  },
  {
   "cell_type": "markdown",
   "execution_count": null,
   "metadata": {},
   "outputs": [],
   "source": [
    "With this method, we can find the bst K features, but we still have to choose K ourselves. So how do we know what is the \"best\" value of K? \n",
    "\n",
    "The solution is basically brute force. We would want to train multiple models with increasing values of K, and find which one performed the best.\n",
    "\n",
    "### L1 Regularization \n",
    "Now let's try a more powerful approach using L1 Regularization. Let's implement a function for this (```select_features_l1```) that returns a list of features to keep. This idea can be used in the real world when training a model.\n",
    "\n",
    "Let's use ```LogisticRegression``` classifier model with an L1 penalty to select the features. For the mode, let's set the random state to 7 and the regularization param to 0.1. We can fit the model then use ```SelectFromModel``` to return a model with the selected features."
   ]
  },
  {
   "cell_type": "code",
   "execution_count": null,
   "metadata": {},
   "outputs": [],
   "source": [
    "from sklearn.linear_model import LogisticRegression\n",
    "from sklearn.feature_selection import SelectFromModel\n",
    "\n",
    "def select_features_l1(X, y):\n",
    "    \"\"\" Return selected features using logistic regression with an L1 penalty \"\"\"\n",
    "    # Regularization param to 0.1, l1 penalty and random_state=7\n",
    "    log = LogisticRegression(C=0.1, penalty=\"l1\", random_state=7, verbose=1).fit(X, y)\n",
    "    \n",
    "    # Select from the model and transform\n",
    "    model = SelectFromModel(log, prefit=True)\n",
    "    X_new = model.transform(X)\n",
    "    # X_new\n",
    "\n",
    "    # Get the selected features via inverse transform\n",
    "    selected_features = pd.DataFrame(model.inverse_transform(X_new),\n",
    "                                     index=X.index,\n",
    "                                     columns=X.columns) \n",
    "\n",
    "    # Dropped columns have all 0s, keep the others\n",
    "    selected_columns = selected_features.columns[selected_features.var() != 0]\n",
    "\n",
    "    return selected_columns\n",
    "\n",
    "train, valid, _ = fe.get_ad_splits(clicks)\n",
    "train['prev_clicks'][0] = 0\n",
    "X, y = train[train.columns.drop(['click_time', 'attributed_time', 'is_attributed'])], train['is_attributed']\n",
    "selected_features = select_features_l1(X, y)\n",
    "selected_features"
   ]
  },
  {
   "cell_type": "code",
   "execution_count": null,
   "metadata": {},
   "outputs": [],
   "source": [
    "dropped_cols = selected_features.columns.drop(selected_features.var() == 0)\n",
    "dropped_cols"
   ]
  }
 ]
}