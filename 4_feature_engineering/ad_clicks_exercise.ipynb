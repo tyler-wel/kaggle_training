{
 "nbformat": 4,
 "nbformat_minor": 2,
 "metadata": {
  "language_info": {
   "name": "python",
   "codemirror_mode": {
    "name": "ipython",
    "version": 3
   },
   "version": "3.7.4"
  },
  "orig_nbformat": 2,
  "file_extension": ".py",
  "mimetype": "text/x-python",
  "name": "python",
  "npconvert_exporter": "python",
  "pygments_lexer": "ipython3",
  "version": 3
 },
 "cells": [
  {
   "cell_type": "markdown",
   "metadata": {},
   "outputs": [],
   "source": [
    "# Feature Engineering Ad Clicks Exercise\n",
    "\n",
    "The dataset we will be using for this exercise is a sample from 'TalkingData AdTracking' Kaggle competition. All positive samples (where is_attributed == 1) was kept, while 99% of negative samples we're discarded. This sample has roughly 20% positive examples.\n",
    "The data has the following features: (note id, app, device, os, and channel are encoded).\n",
    "\n",
    "The overall goal is to predict whether a user will download an app after clicking a mobile ad.\n",
    "\n",
    "## 1. Baseline Modeling\n",
    "Using what we learned in the overview, let's setup our baseline model.\n"
   ]
  },
  {
   "cell_type": "code",
   "metadata": {},
   "outputs": [],
   "source": [
    "import pandas as pd\n",
    "from my_modules import data_imports as data\n",
    "from my_modules import feature_engineering as fe\n",
    "from termcolor import colored\n",
    "\n",
    "click_data = data.import_ad_clicks_data()\n",
    "click_data.head(10)"
   ]
  },
  {
   "cell_type": "markdown",
   "metadata": {},
   "outputs": [],
   "source": [
    "### Basic Feature Engineering\n",
    "Before jumping into the deepend of feature engineering, we need a base model to build off. So let's do some simple engineering:\n",
    "- Dealing with Timestamps\n",
    "- Label Encoding"
   ]
  },
  {
   "cell_type": "markdown",
   "metadata": {},
   "outputs": [],
   "source": [
    "#### Timestamps"
   ]
  },
  {
   "cell_type": "code",
   "metadata": {},
   "outputs": [],
   "source": [
    "# Timestamps\n",
    "clicks = click_data.copy()\n",
    "clicks['day'] = clicks['click_time'].dt.day.astype('uint8')\n",
    "clicks['hour'] = clicks['click_time'].dt.hour.astype('uint8')\n",
    "clicks['minute'] = clicks['click_time'].dt.minute.astype('uint8')\n",
    "clicks['second'] = clicks['click_time'].dt.second.astype('uint8')\n",
    "\n",
    "print(clicks.head())\n"
   ]
  },
  {
   "cell_type": "markdown",
   "metadata": {},
   "outputs": [],
   "source": [
    "#### Label Encoding\n",
    "For the baseline model, let's just use skikit-learn's ```LabelEncoder``` to create new features in the clicks **DataFrame**. The new columns should be the original name with *_labels* appended.\n"
   ]
  },
  {
   "cell_type": "code",
   "metadata": {},
   "outputs": [],
   "source": [
    "from sklearn.preprocessing import LabelEncoder\n",
    "\n",
    "cat_features = ['ip', 'app', 'device', 'os', 'channel']\n",
    "encoder = LabelEncoder()\n",
    "\n",
    "for feature in cat_features:\n",
    "    encoded = encoder.fit_transform(clicks[feature])\n",
    "    clicks[feature + '_labels'] = encoded\n",
    "\n",
    "clicks.head()\n"
   ]
  },
  {
   "cell_type": "markdown",
   "metadata": {},
   "outputs": [],
   "source": [
    "### Train/Test/Validate Splits\n",
    "There is one thing we need to be careful with regarding our data.\n",
    "\n",
    "#### Time Series\n",
    "Our data is a *time series*. Date and time matter in regards to train and test sets. Since our model needs to predict events in the future, we must also make sure we validate the model on events in the future. If the data is mixed up between training and test sets, then future data will leak in to the model and our validationr esults will overestimate the performance on new data.\n",
    "\n",
    "Let's first sort in order of increasing time. The first 80% of rows will become the train set, the next 10% will be validation, and last 10% will be our test set."
   ]
  },
  {
   "cell_type": "code",
   "metadata": {},
   "outputs": [],
   "source": [
    "base_feature_cols = ['day', 'hour', 'minute', 'second',\n",
    "                'ip_labels', 'app_labels', 'device_labels',\n",
    "                'os_labels', 'channel_labels']\n",
    "# Split implementation moved to my_modules\n",
    "base_train, base_valid, base_test = fe.get_ad_splits(clicks)"
   ]
  },
  {
   "cell_type": "markdown",
   "metadata": {},
   "outputs": [],
   "source": [
    "### LightGBM Training\n",
    "Now let's construct LightGBM dataset objects for each of the smaller datasets."
   ]
  },
  {
   "cell_type": "code",
   "metadata": {},
   "outputs": [],
   "source": [
    "bst, valid_score = fe.train_ad_model(base_train, base_valid, feature_cols=base_feature_cols)"
   ]
  },
  {
   "cell_type": "markdown",
   "metadata": {},
   "outputs": [],
   "source": [
    "## 2. Feature Engineering (intermediate encoding)\n",
    "Now let's get started by implementing some more complicated encoding and testing them using our ```train_ad_model``` function. We'll be implementing the following encodings:\n",
    "- Count Encoding\n",
    "- Target Encoding\n",
    "- Leave-one-out Encoding\n",
    "- CatBoost Encoding\n",
    "- Feature embedding with SVD"
   ]
  },
  {
   "cell_type": "code",
   "metadata": {},
   "outputs": [],
   "source": [
    "# click_data is the clean imported data\n",
    "# clicks is timestamp and label encoded\n",
    "\n",
    "# Let's do a check on unencoded data\n",
    "print(colored(\"Unencoded Model\", 'yellow'))\n",
    "train, valid, test = fe.get_ad_splits(click_data)\n",
    "_ = fe.train_ad_model(train, valid)\n",
    "print(colored(\"Baseline Model (Timestamp + Simple Label Encoding)\", 'yellow'))\n",
    "_ = fe.train_ad_model(base_train, base_valid, feature_cols=base_feature_cols)"
   ]
  },
  {
   "cell_type": "markdown",
   "metadata": {},
   "outputs": [],
   "source": [
    "#### Quick note on encoding and leakages\n",
    "This model were working with has calculated statistics and counts. The current columns are:\n",
    "- ip\n",
    "- app\n",
    "- device\n",
    "- os\n",
    "- channel\n",
    "- click_time\n",
    "- attributed_time\n",
    "- is_attributed (target)\n",
    "\n",
    "In regards to data leakages, we need to be careful to make sure that we calculate the encodings from ONLY the training set, to avoid overestimating the model's performance.\n",
    "\n",
    "### Count encodings\n",
    "First off, let's count encodde the features ```['ip', 'app', 'device', 'os', 'channel'] ``` using ```CountEncoder```. "
   ]
  },
  {
   "cell_type": "code",
   "metadata": {},
   "outputs": [],
   "source": [
    "import category_encoders as ce\n",
    "\n",
    "cat_features = ['ip', 'app', 'device', 'os', 'channel']\n",
    "train, valid, test = fe.get_ad_splits(clicks)"
   ]
  }
 ]
}