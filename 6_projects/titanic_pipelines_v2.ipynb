{
 "nbformat": 4,
 "nbformat_minor": 2,
 "metadata": {
  "language_info": {
   "name": "python",
   "codemirror_mode": {
    "name": "ipython",
    "version": 3
   },
   "version": "3.7.4-final"
  },
  "orig_nbformat": 2,
  "file_extension": ".py",
  "mimetype": "text/x-python",
  "name": "python",
  "npconvert_exporter": "python",
  "pygments_lexer": "ipython3",
  "version": 3,
  "kernelspec": {
   "name": "python37464bitbaseconda973ef65525d24389916660910d6d08ff",
   "display_name": "Python 3.7.4 64-bit ('base': conda)"
  }
 },
 "cells": [
  {
   "cell_type": "markdown",
   "execution_count": null,
   "metadata": {},
   "outputs": [],
   "source": [
    "# Titanic w/ Pipelines\n",
    "## Goal\n",
    "Take what we did in V1 and expand upon it with more info/tutorials on pipelining.\n",
    "\n",
    "## Relevant Material\n",
    "[Deep dive in sklearn pipelines](https://www.kaggle.com/baghern/a-deep-dive-into-sklearn-pipelines)  \n",
    "[Simple pipeline example with scikit learn](https://towardsdatascience.com/a-simple-example-of-pipeline-in-machine-learning-with-scikit-learn-e726ffbb6976)\n",
    "\n",
    "## Titanic Data\n",
    "| Variable | Definition | Key |\n",
    "| ----- | --- | --- |\n",
    "| survival | Survived or not | 0 = No, 1 = Yes |\n",
    "| pclass | Ticket class | 1 = 1st, 2 = 2nd, 3 = 3rd |\n",
    "| sex | Sex | |\n",
    "| age | Age in years | |\n",
    "| sibsp | Num of siblings / spouses aboard | |\n",
    "| parch | Num of parents / children aboard | |\n",
    "| ticket | Ticket number | |\n",
    "| fare | Passengar fare | |\n",
    "| cabin | Cabin number | |\n",
    "| embarked | Port of embarkation |   C = Cherbourg, Q = Queenstown, S = Southampton |"
   ]
  },
  {
   "cell_type": "markdown",
   "execution_count": null,
   "metadata": {},
   "outputs": [],
   "source": [
    "## Base setup"
   ]
  },
  {
   "cell_type": "code",
   "execution_count": null,
   "metadata": {},
   "outputs": [],
   "source": [
    "%reload_ext autoreload\n",
    "%autoreload 2\n",
    "\n",
    "# custom helpers\n",
    "from helpers.helper import get_splits, preprocess_titanic\n",
    "# data handling\n",
    "import numpy as np\n",
    "import pandas as pd\n",
    "# output\n",
    "from termcolor import cprint\n",
    "import matplotlib.pyplot as plt\n",
    "import seaborn as sns\n",
    "\n",
    "cprint('All Modules Imported!', 'green')"
   ]
  },
  {
   "cell_type": "markdown",
   "execution_count": null,
   "metadata": {},
   "outputs": [],
   "source": [
    "## Data Import"
   ]
  },
  {
   "cell_type": "code",
   "execution_count": null,
   "metadata": {},
   "outputs": [],
   "source": [
    "train_data = pd.read_csv('./data/train.csv', index_col='PassengerId')\n",
    "test_data = pd.read_csv('./data/test.csv', index_col='PassengerId')\n",
    "\n",
    "cprint('Data Imported!', 'green')\n",
    "cprint('Training Data Example:', 'cyan')\n",
    "display(train_data)"
   ]
  },
  {
   "cell_type": "markdown",
   "execution_count": null,
   "metadata": {},
   "outputs": [],
   "source": [
    "## Pipelining\n",
    "### Reading Notes\n",
    "- For very basic feature engineering, it's good to encapsulate processing logic into functions so it can be reproduced easily.\n",
    "- For purposes of optimizing and testing models, it's a good idea to create feature selectors that can be used inside a pipeline to apply transformations on single columns. Check out `TextSelector` and `NumericSelector` in helper.py\n",
    "  - the selectors can used as follows `('selector', TextSelector(key='processed'))`\n",
    "- Pipelines are built from pipelines. For each processing step, we can create a mini-pipeline that carries out the task/engineering we need.\n",
    "  - If doing engineering on individual columns, it's important to join the engineered columns back into the dataset. `sklearn.pipeline`'s `FeatureUnion` method can be great for this.\n",
    "\n",
    "### Basic Engineering"
   ]
  },
  {
   "cell_type": "code",
   "execution_count": 15,
   "metadata": {},
   "outputs": [
    {
     "data": {
      "text/html": "<div>\n<style scoped>\n    .dataframe tbody tr th:only-of-type {\n        vertical-align: middle;\n    }\n\n    .dataframe tbody tr th {\n        vertical-align: top;\n    }\n\n    .dataframe thead th {\n        text-align: right;\n    }\n</style>\n<table border=\"1\" class=\"dataframe\">\n  <thead>\n    <tr style=\"text-align: right;\">\n      <th></th>\n      <th>Pclass</th>\n      <th>Sex</th>\n      <th>Age</th>\n      <th>SibSp</th>\n      <th>Parch</th>\n      <th>Fare</th>\n      <th>Cabin</th>\n      <th>Embarked</th>\n      <th>Pclass_Sex</th>\n      <th>Pclass_Cabin</th>\n      <th>Pclass_Embarked</th>\n      <th>Sex_Cabin</th>\n      <th>Sex_Embarked</th>\n      <th>Cabin_Embarked</th>\n    </tr>\n    <tr>\n      <th>PassengerId</th>\n      <th></th>\n      <th></th>\n      <th></th>\n      <th></th>\n      <th></th>\n      <th></th>\n      <th></th>\n      <th></th>\n      <th></th>\n      <th></th>\n      <th></th>\n      <th></th>\n      <th></th>\n      <th></th>\n    </tr>\n  </thead>\n  <tbody>\n    <tr>\n      <td>7</td>\n      <td>1</td>\n      <td>male</td>\n      <td>54.0</td>\n      <td>0</td>\n      <td>0</td>\n      <td>51.8625</td>\n      <td>E46</td>\n      <td>S</td>\n      <td>1_male</td>\n      <td>1_E46</td>\n      <td>1_S</td>\n      <td>male_E46</td>\n      <td>male_S</td>\n      <td>E46_S</td>\n    </tr>\n    <tr>\n      <td>719</td>\n      <td>3</td>\n      <td>male</td>\n      <td>-1.0</td>\n      <td>0</td>\n      <td>0</td>\n      <td>15.5000</td>\n      <td>NotSpecified</td>\n      <td>Q</td>\n      <td>3_male</td>\n      <td>3_NotSpecified</td>\n      <td>3_Q</td>\n      <td>male_NotSpecified</td>\n      <td>male_Q</td>\n      <td>NotSpecified_Q</td>\n    </tr>\n    <tr>\n      <td>686</td>\n      <td>2</td>\n      <td>male</td>\n      <td>25.0</td>\n      <td>1</td>\n      <td>2</td>\n      <td>41.5792</td>\n      <td>NotSpecified</td>\n      <td>C</td>\n      <td>2_male</td>\n      <td>2_NotSpecified</td>\n      <td>2_C</td>\n      <td>male_NotSpecified</td>\n      <td>male_C</td>\n      <td>NotSpecified_C</td>\n    </tr>\n    <tr>\n      <td>74</td>\n      <td>3</td>\n      <td>male</td>\n      <td>26.0</td>\n      <td>1</td>\n      <td>0</td>\n      <td>14.4542</td>\n      <td>NotSpecified</td>\n      <td>C</td>\n      <td>3_male</td>\n      <td>3_NotSpecified</td>\n      <td>3_C</td>\n      <td>male_NotSpecified</td>\n      <td>male_C</td>\n      <td>NotSpecified_C</td>\n    </tr>\n    <tr>\n      <td>883</td>\n      <td>3</td>\n      <td>female</td>\n      <td>22.0</td>\n      <td>0</td>\n      <td>0</td>\n      <td>10.5167</td>\n      <td>NotSpecified</td>\n      <td>S</td>\n      <td>3_female</td>\n      <td>3_NotSpecified</td>\n      <td>3_S</td>\n      <td>female_NotSpecified</td>\n      <td>female_S</td>\n      <td>NotSpecified_S</td>\n    </tr>\n  </tbody>\n</table>\n</div>",
      "text/plain": "             Pclass     Sex   Age  SibSp  Parch     Fare         Cabin  \\\nPassengerId                                                              \n7                 1    male  54.0      0      0  51.8625           E46   \n719               3    male  -1.0      0      0  15.5000  NotSpecified   \n686               2    male  25.0      1      2  41.5792  NotSpecified   \n74                3    male  26.0      1      0  14.4542  NotSpecified   \n883               3  female  22.0      0      0  10.5167  NotSpecified   \n\n            Embarked Pclass_Sex    Pclass_Cabin Pclass_Embarked  \\\nPassengerId                                                       \n7                  S     1_male           1_E46             1_S   \n719                Q     3_male  3_NotSpecified             3_Q   \n686                C     2_male  2_NotSpecified             2_C   \n74                 C     3_male  3_NotSpecified             3_C   \n883                S   3_female  3_NotSpecified             3_S   \n\n                       Sex_Cabin Sex_Embarked  Cabin_Embarked  \nPassengerId                                                    \n7                       male_E46       male_S           E46_S  \n719            male_NotSpecified       male_Q  NotSpecified_Q  \n686            male_NotSpecified       male_C  NotSpecified_C  \n74             male_NotSpecified       male_C  NotSpecified_C  \n883          female_NotSpecified     female_S  NotSpecified_S  "
     },
     "execution_count": 15,
     "metadata": {},
     "output_type": "execute_result"
    }
   ],
   "source": [
    "numerical_cols = ['Age', 'SibSp', 'Parch', 'Fare']\n",
    "categorical_cols = ['Pclass', 'Sex', 'Cabin', 'Embarked']\n",
    "target = 'Survived'\n",
    "\n",
    "from sklearn.model_selection import train_test_split\n",
    "\n",
    "# Preprocessing fills NA values and adds interactions\n",
    "processed_data = preprocess_titanic(train_data, categorical_cols, numerical_cols)\n",
    "# display(processed_data)\n",
    "\n",
    "features = [c for c in train_data.columns.values if c not in ['PassengerId','Survived','Name','Ticket']]\n",
    "\n",
    "X_train, X_test, y_train, y_test = train_test_split(train_data[features], train_data[target], test_size=0.33, random_state=42)\n",
    "X_train.head()"
   ]
  },
  {
   "cell_type": "markdown",
   "execution_count": null,
   "metadata": {},
   "outputs": [],
   "source": [
    "As stated above, we can use the custom Selector classes for making transforms for specific columns. For example, standardization.\n",
    "### 2/4/20 notes\n",
    "After doing some work, I don't think the selector is really necesarry, at least for our case? We can just scale everything once in the pipeline specifying the columns we want to use it on.\n",
    "\n",
    "Also, in our helper pre-processer, we are filling in NA's. In the future, we can either decide to do that IN the pipeline or not. Maybe better to do in pipeline? But then also how do you do interactions in a pipeline.\n",
    "\n",
    "#### *Hey*!\n",
    "we can use scikits [PolynomialFeatures](https://scikit-learn.org/stable/modules/generated/sklearn.preprocessing.PolynomialFeatures.html) to create interactions automatically, meaning we can do it in the pipeline! (i think)"
   ]
  },
  {
   "cell_type": "code",
   "execution_count": null,
   "metadata": {},
   "outputs": [],
   "source": [
    "from sklearn.preprocessing import StandardScaler\n",
    "\n",
    "numerical_tranformer = StandardScaler()\n",
    "categorical_transformer = OneHotEncoder(handle_unknown='ignore')"
   ]
  },
  {
   "cell_type": "code",
   "execution_count": 24,
   "metadata": {},
   "outputs": [],
   "source": [
    "# http://scipy-lectures.org/packages/statistics/index.html\n",
    "# import seaborn as sns\n",
    "\n",
    "# plot = sns.pairplot(train_data, kind=\"reg\", aspect=1, height=6)\n",
    "# plot.savefig('output.png')"
   ]
  },
  {
   "cell_type": "markdown",
   "execution_count": null,
   "metadata": {},
   "outputs": [],
   "source": [
    "- Fare needs to have it's NA values filled\n",
    "- Age NA values need to be handled..."
   ]
  }
 ]
}