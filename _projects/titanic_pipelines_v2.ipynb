{
 "nbformat": 4,
 "nbformat_minor": 2,
 "metadata": {
  "language_info": {
   "name": "python",
   "codemirror_mode": {
    "name": "ipython",
    "version": 3
   },
   "version": "3.7.4-final"
  },
  "orig_nbformat": 2,
  "file_extension": ".py",
  "mimetype": "text/x-python",
  "name": "python",
  "npconvert_exporter": "python",
  "pygments_lexer": "ipython3",
  "version": 3,
  "kernelspec": {
   "name": "python37464bitbasecondaa8915705ec6a48a284ebc3153ad684c3",
   "display_name": "Python 3.7.4 64-bit ('base': conda)"
  }
 },
 "cells": [
  {
   "cell_type": "markdown",
   "execution_count": null,
   "metadata": {},
   "outputs": [],
   "source": [
    "# Titanic w/ Pipelines\n",
    "## Goal\n",
    "Take what we did in V1 and expand upon it with more info/tutorials on pipelining.\n",
    "\n",
    "## Relevant Material\n",
    "[Deep dive in sklearn pipelines](https://www.kaggle.com/baghern/a-deep-dive-into-sklearn-pipelines)  \n",
    "[Simple pipeline example with scikit learn](https://towardsdatascience.com/a-simple-example-of-pipeline-in-machine-learning-with-scikit-learn-e726ffbb6976)\n",
    "\n",
    "## Titanic Data\n",
    "| Variable | Definition | Key |\n",
    "| ----- | --- | --- |\n",
    "| survival | Survived or not | 0 = No, 1 = Yes |\n",
    "| pclass | Ticket class | 1 = 1st, 2 = 2nd, 3 = 3rd |\n",
    "| sex | Sex | |\n",
    "| age | Age in years | |\n",
    "| sibsp | Num of siblings / spouses aboard | |\n",
    "| parch | Num of parents / children aboard | |\n",
    "| ticket | Ticket number | |\n",
    "| fare | Passengar fare | |\n",
    "| cabin | Cabin number | |\n",
    "| embarked | Port of embarkation |   C = Cherbourg, Q = Queenstown, S = Southampton |"
   ]
  },
  {
   "cell_type": "markdown",
   "execution_count": null,
   "metadata": {},
   "outputs": [],
   "source": [
    "## Base setup"
   ]
  },
  {
   "cell_type": "code",
   "execution_count": 3,
   "metadata": {},
   "outputs": [
    {
     "name": "stdout",
     "output_type": "stream",
     "text": "\u001b[32mAll Modules Imported!\u001b[0m\n"
    }
   ],
   "source": [
    "%reload_ext autoreload\n",
    "%autoreload 2\n",
    "\n",
    "# custom helpers\n",
    "from helpers.helper import get_splits, process_titanic\n",
    "# data handling\n",
    "import numpy as np\n",
    "import pandas as pd\n",
    "# output\n",
    "from termcolor import cprint\n",
    "import matplotlib.pyplot as plt\n",
    "import seaborn as sns\n",
    "\n",
    "cprint('All Modules Imported!', 'green')"
   ]
  },
  {
   "cell_type": "markdown",
   "execution_count": null,
   "metadata": {},
   "outputs": [],
   "source": [
    "## Data Import"
   ]
  },
  {
   "cell_type": "code",
   "execution_count": 7,
   "metadata": {},
   "outputs": [
    {
     "name": "stdout",
     "output_type": "stream",
     "text": "\u001b[32mData Imported!\u001b[0m\n\u001b[36mTraining Data Example:\u001b[0m\n"
    },
    {
     "data": {
      "text/html": "<div>\n<style scoped>\n    .dataframe tbody tr th:only-of-type {\n        vertical-align: middle;\n    }\n\n    .dataframe tbody tr th {\n        vertical-align: top;\n    }\n\n    .dataframe thead th {\n        text-align: right;\n    }\n</style>\n<table border=\"1\" class=\"dataframe\">\n  <thead>\n    <tr style=\"text-align: right;\">\n      <th></th>\n      <th>Survived</th>\n      <th>Pclass</th>\n      <th>Name</th>\n      <th>Sex</th>\n      <th>Age</th>\n      <th>SibSp</th>\n      <th>Parch</th>\n      <th>Ticket</th>\n      <th>Fare</th>\n      <th>Cabin</th>\n      <th>Embarked</th>\n    </tr>\n    <tr>\n      <th>PassengerId</th>\n      <th></th>\n      <th></th>\n      <th></th>\n      <th></th>\n      <th></th>\n      <th></th>\n      <th></th>\n      <th></th>\n      <th></th>\n      <th></th>\n      <th></th>\n    </tr>\n  </thead>\n  <tbody>\n    <tr>\n      <td>1</td>\n      <td>0</td>\n      <td>3</td>\n      <td>Braund, Mr. Owen Harris</td>\n      <td>male</td>\n      <td>22.0</td>\n      <td>1</td>\n      <td>0</td>\n      <td>A/5 21171</td>\n      <td>7.2500</td>\n      <td>NaN</td>\n      <td>S</td>\n    </tr>\n    <tr>\n      <td>2</td>\n      <td>1</td>\n      <td>1</td>\n      <td>Cumings, Mrs. John Bradley (Florence Briggs Th...</td>\n      <td>female</td>\n      <td>38.0</td>\n      <td>1</td>\n      <td>0</td>\n      <td>PC 17599</td>\n      <td>71.2833</td>\n      <td>C85</td>\n      <td>C</td>\n    </tr>\n    <tr>\n      <td>3</td>\n      <td>1</td>\n      <td>3</td>\n      <td>Heikkinen, Miss. Laina</td>\n      <td>female</td>\n      <td>26.0</td>\n      <td>0</td>\n      <td>0</td>\n      <td>STON/O2. 3101282</td>\n      <td>7.9250</td>\n      <td>NaN</td>\n      <td>S</td>\n    </tr>\n    <tr>\n      <td>4</td>\n      <td>1</td>\n      <td>1</td>\n      <td>Futrelle, Mrs. Jacques Heath (Lily May Peel)</td>\n      <td>female</td>\n      <td>35.0</td>\n      <td>1</td>\n      <td>0</td>\n      <td>113803</td>\n      <td>53.1000</td>\n      <td>C123</td>\n      <td>S</td>\n    </tr>\n    <tr>\n      <td>5</td>\n      <td>0</td>\n      <td>3</td>\n      <td>Allen, Mr. William Henry</td>\n      <td>male</td>\n      <td>35.0</td>\n      <td>0</td>\n      <td>0</td>\n      <td>373450</td>\n      <td>8.0500</td>\n      <td>NaN</td>\n      <td>S</td>\n    </tr>\n    <tr>\n      <td>...</td>\n      <td>...</td>\n      <td>...</td>\n      <td>...</td>\n      <td>...</td>\n      <td>...</td>\n      <td>...</td>\n      <td>...</td>\n      <td>...</td>\n      <td>...</td>\n      <td>...</td>\n      <td>...</td>\n    </tr>\n    <tr>\n      <td>887</td>\n      <td>0</td>\n      <td>2</td>\n      <td>Montvila, Rev. Juozas</td>\n      <td>male</td>\n      <td>27.0</td>\n      <td>0</td>\n      <td>0</td>\n      <td>211536</td>\n      <td>13.0000</td>\n      <td>NaN</td>\n      <td>S</td>\n    </tr>\n    <tr>\n      <td>888</td>\n      <td>1</td>\n      <td>1</td>\n      <td>Graham, Miss. Margaret Edith</td>\n      <td>female</td>\n      <td>19.0</td>\n      <td>0</td>\n      <td>0</td>\n      <td>112053</td>\n      <td>30.0000</td>\n      <td>B42</td>\n      <td>S</td>\n    </tr>\n    <tr>\n      <td>889</td>\n      <td>0</td>\n      <td>3</td>\n      <td>Johnston, Miss. Catherine Helen \"Carrie\"</td>\n      <td>female</td>\n      <td>NaN</td>\n      <td>1</td>\n      <td>2</td>\n      <td>W./C. 6607</td>\n      <td>23.4500</td>\n      <td>NaN</td>\n      <td>S</td>\n    </tr>\n    <tr>\n      <td>890</td>\n      <td>1</td>\n      <td>1</td>\n      <td>Behr, Mr. Karl Howell</td>\n      <td>male</td>\n      <td>26.0</td>\n      <td>0</td>\n      <td>0</td>\n      <td>111369</td>\n      <td>30.0000</td>\n      <td>C148</td>\n      <td>C</td>\n    </tr>\n    <tr>\n      <td>891</td>\n      <td>0</td>\n      <td>3</td>\n      <td>Dooley, Mr. Patrick</td>\n      <td>male</td>\n      <td>32.0</td>\n      <td>0</td>\n      <td>0</td>\n      <td>370376</td>\n      <td>7.7500</td>\n      <td>NaN</td>\n      <td>Q</td>\n    </tr>\n  </tbody>\n</table>\n<p>891 rows × 11 columns</p>\n</div>",
      "text/plain": "             Survived  Pclass  \\\nPassengerId                     \n1                   0       3   \n2                   1       1   \n3                   1       3   \n4                   1       1   \n5                   0       3   \n...               ...     ...   \n887                 0       2   \n888                 1       1   \n889                 0       3   \n890                 1       1   \n891                 0       3   \n\n                                                          Name     Sex   Age  \\\nPassengerId                                                                    \n1                                      Braund, Mr. Owen Harris    male  22.0   \n2            Cumings, Mrs. John Bradley (Florence Briggs Th...  female  38.0   \n3                                       Heikkinen, Miss. Laina  female  26.0   \n4                 Futrelle, Mrs. Jacques Heath (Lily May Peel)  female  35.0   \n5                                     Allen, Mr. William Henry    male  35.0   \n...                                                        ...     ...   ...   \n887                                      Montvila, Rev. Juozas    male  27.0   \n888                               Graham, Miss. Margaret Edith  female  19.0   \n889                   Johnston, Miss. Catherine Helen \"Carrie\"  female   NaN   \n890                                      Behr, Mr. Karl Howell    male  26.0   \n891                                        Dooley, Mr. Patrick    male  32.0   \n\n             SibSp  Parch            Ticket     Fare Cabin Embarked  \nPassengerId                                                          \n1                1      0         A/5 21171   7.2500   NaN        S  \n2                1      0          PC 17599  71.2833   C85        C  \n3                0      0  STON/O2. 3101282   7.9250   NaN        S  \n4                1      0            113803  53.1000  C123        S  \n5                0      0            373450   8.0500   NaN        S  \n...            ...    ...               ...      ...   ...      ...  \n887              0      0            211536  13.0000   NaN        S  \n888              0      0            112053  30.0000   B42        S  \n889              1      2        W./C. 6607  23.4500   NaN        S  \n890              0      0            111369  30.0000  C148        C  \n891              0      0            370376   7.7500   NaN        Q  \n\n[891 rows x 11 columns]"
     },
     "metadata": {},
     "output_type": "display_data"
    }
   ],
   "source": [
    "train_data = pd.read_csv('./data/train.csv', index_col='PassengerId')\n",
    "test_data = pd.read_csv('./data/test.csv', index_col='PassengerId')\n",
    "\n",
    "cprint('Data Imported!', 'green')\n",
    "cprint('Training Data Example:', 'cyan')\n",
    "display(train_data)"
   ]
  },
  {
   "cell_type": "markdown",
   "execution_count": null,
   "metadata": {},
   "outputs": [],
   "source": [
    "## Pipelining\n",
    "### Reading Notes\n",
    "- For very basic feature engineering, it's good to encapsulate processing logic into functions so it can be reproduced easily.\n",
    "- For purposes of optimizing and testing models, it's a good idea to create feature selectors that can be used inside a pipeline to apply transformations on single columns. Check out `TextSelector` and `NumericSelector` in helper.py\n",
    "  - the selectors can used as follows `('selector', TextSelector(key='processed'))`\n",
    "- Pipelines are built from pipelines. For each processing step, we can create a mini-pipeline that carries out the task/engineering we need.\n",
    "  - If doing engineering on individual columns, it's important to join the engineered columns back into the dataset. `sklearn.pipeline`'s `FeatureUnion` method can be great for this.\n",
    "\n",
    "### Basic Engineering and "
   ]
  },
  {
   "cell_type": "code",
   "execution_count": 15,
   "metadata": {},
   "outputs": [
    {
     "data": {
      "text/html": "<div>\n<style scoped>\n    .dataframe tbody tr th:only-of-type {\n        vertical-align: middle;\n    }\n\n    .dataframe tbody tr th {\n        vertical-align: top;\n    }\n\n    .dataframe thead th {\n        text-align: right;\n    }\n</style>\n<table border=\"1\" class=\"dataframe\">\n  <thead>\n    <tr style=\"text-align: right;\">\n      <th></th>\n      <th>Pclass</th>\n      <th>Sex</th>\n      <th>Age</th>\n      <th>SibSp</th>\n      <th>Parch</th>\n      <th>Fare</th>\n      <th>Cabin</th>\n      <th>Embarked</th>\n      <th>Pclass_Sex</th>\n      <th>Pclass_Cabin</th>\n      <th>Pclass_Embarked</th>\n      <th>Sex_Cabin</th>\n      <th>Sex_Embarked</th>\n      <th>Cabin_Embarked</th>\n    </tr>\n    <tr>\n      <th>PassengerId</th>\n      <th></th>\n      <th></th>\n      <th></th>\n      <th></th>\n      <th></th>\n      <th></th>\n      <th></th>\n      <th></th>\n      <th></th>\n      <th></th>\n      <th></th>\n      <th></th>\n      <th></th>\n      <th></th>\n    </tr>\n  </thead>\n  <tbody>\n    <tr>\n      <td>7</td>\n      <td>1</td>\n      <td>male</td>\n      <td>54.0</td>\n      <td>0</td>\n      <td>0</td>\n      <td>51.8625</td>\n      <td>E46</td>\n      <td>S</td>\n      <td>1_male</td>\n      <td>1_E46</td>\n      <td>1_S</td>\n      <td>male_E46</td>\n      <td>male_S</td>\n      <td>E46_S</td>\n    </tr>\n    <tr>\n      <td>719</td>\n      <td>3</td>\n      <td>male</td>\n      <td>NaN</td>\n      <td>0</td>\n      <td>0</td>\n      <td>15.5000</td>\n      <td>NaN</td>\n      <td>Q</td>\n      <td>3_male</td>\n      <td>3_nan</td>\n      <td>3_Q</td>\n      <td>male_nan</td>\n      <td>male_Q</td>\n      <td>nan_Q</td>\n    </tr>\n    <tr>\n      <td>686</td>\n      <td>2</td>\n      <td>male</td>\n      <td>25.0</td>\n      <td>1</td>\n      <td>2</td>\n      <td>41.5792</td>\n      <td>NaN</td>\n      <td>C</td>\n      <td>2_male</td>\n      <td>2_nan</td>\n      <td>2_C</td>\n      <td>male_nan</td>\n      <td>male_C</td>\n      <td>nan_C</td>\n    </tr>\n    <tr>\n      <td>74</td>\n      <td>3</td>\n      <td>male</td>\n      <td>26.0</td>\n      <td>1</td>\n      <td>0</td>\n      <td>14.4542</td>\n      <td>NaN</td>\n      <td>C</td>\n      <td>3_male</td>\n      <td>3_nan</td>\n      <td>3_C</td>\n      <td>male_nan</td>\n      <td>male_C</td>\n      <td>nan_C</td>\n    </tr>\n    <tr>\n      <td>883</td>\n      <td>3</td>\n      <td>female</td>\n      <td>22.0</td>\n      <td>0</td>\n      <td>0</td>\n      <td>10.5167</td>\n      <td>NaN</td>\n      <td>S</td>\n      <td>3_female</td>\n      <td>3_nan</td>\n      <td>3_S</td>\n      <td>female_nan</td>\n      <td>female_S</td>\n      <td>nan_S</td>\n    </tr>\n    <tr>\n      <td>...</td>\n      <td>...</td>\n      <td>...</td>\n      <td>...</td>\n      <td>...</td>\n      <td>...</td>\n      <td>...</td>\n      <td>...</td>\n      <td>...</td>\n      <td>...</td>\n      <td>...</td>\n      <td>...</td>\n      <td>...</td>\n      <td>...</td>\n      <td>...</td>\n    </tr>\n    <tr>\n      <td>107</td>\n      <td>3</td>\n      <td>female</td>\n      <td>21.0</td>\n      <td>0</td>\n      <td>0</td>\n      <td>7.6500</td>\n      <td>NaN</td>\n      <td>S</td>\n      <td>3_female</td>\n      <td>3_nan</td>\n      <td>3_S</td>\n      <td>female_nan</td>\n      <td>female_S</td>\n      <td>nan_S</td>\n    </tr>\n    <tr>\n      <td>271</td>\n      <td>1</td>\n      <td>male</td>\n      <td>NaN</td>\n      <td>0</td>\n      <td>0</td>\n      <td>31.0000</td>\n      <td>NaN</td>\n      <td>S</td>\n      <td>1_male</td>\n      <td>1_nan</td>\n      <td>1_S</td>\n      <td>male_nan</td>\n      <td>male_S</td>\n      <td>nan_S</td>\n    </tr>\n    <tr>\n      <td>861</td>\n      <td>3</td>\n      <td>male</td>\n      <td>41.0</td>\n      <td>2</td>\n      <td>0</td>\n      <td>14.1083</td>\n      <td>NaN</td>\n      <td>S</td>\n      <td>3_male</td>\n      <td>3_nan</td>\n      <td>3_S</td>\n      <td>male_nan</td>\n      <td>male_S</td>\n      <td>nan_S</td>\n    </tr>\n    <tr>\n      <td>436</td>\n      <td>1</td>\n      <td>female</td>\n      <td>14.0</td>\n      <td>1</td>\n      <td>2</td>\n      <td>120.0000</td>\n      <td>B96 B98</td>\n      <td>S</td>\n      <td>1_female</td>\n      <td>1_B96 B98</td>\n      <td>1_S</td>\n      <td>female_B96 B98</td>\n      <td>female_S</td>\n      <td>B96 B98_S</td>\n    </tr>\n    <tr>\n      <td>103</td>\n      <td>1</td>\n      <td>male</td>\n      <td>21.0</td>\n      <td>0</td>\n      <td>1</td>\n      <td>77.2875</td>\n      <td>D26</td>\n      <td>S</td>\n      <td>1_male</td>\n      <td>1_D26</td>\n      <td>1_S</td>\n      <td>male_D26</td>\n      <td>male_S</td>\n      <td>D26_S</td>\n    </tr>\n  </tbody>\n</table>\n<p>596 rows × 14 columns</p>\n</div>",
      "text/plain": "             Pclass     Sex   Age  SibSp  Parch      Fare    Cabin Embarked  \\\nPassengerId                                                                   \n7                 1    male  54.0      0      0   51.8625      E46        S   \n719               3    male   NaN      0      0   15.5000      NaN        Q   \n686               2    male  25.0      1      2   41.5792      NaN        C   \n74                3    male  26.0      1      0   14.4542      NaN        C   \n883               3  female  22.0      0      0   10.5167      NaN        S   \n...             ...     ...   ...    ...    ...       ...      ...      ...   \n107               3  female  21.0      0      0    7.6500      NaN        S   \n271               1    male   NaN      0      0   31.0000      NaN        S   \n861               3    male  41.0      2      0   14.1083      NaN        S   \n436               1  female  14.0      1      2  120.0000  B96 B98        S   \n103               1    male  21.0      0      1   77.2875      D26        S   \n\n            Pclass_Sex Pclass_Cabin Pclass_Embarked       Sex_Cabin  \\\nPassengerId                                                           \n7               1_male        1_E46             1_S        male_E46   \n719             3_male        3_nan             3_Q        male_nan   \n686             2_male        2_nan             2_C        male_nan   \n74              3_male        3_nan             3_C        male_nan   \n883           3_female        3_nan             3_S      female_nan   \n...                ...          ...             ...             ...   \n107           3_female        3_nan             3_S      female_nan   \n271             1_male        1_nan             1_S        male_nan   \n861             3_male        3_nan             3_S        male_nan   \n436           1_female    1_B96 B98             1_S  female_B96 B98   \n103             1_male        1_D26             1_S        male_D26   \n\n            Sex_Embarked Cabin_Embarked  \nPassengerId                              \n7                 male_S          E46_S  \n719               male_Q          nan_Q  \n686               male_C          nan_C  \n74                male_C          nan_C  \n883             female_S          nan_S  \n...                  ...            ...  \n107             female_S          nan_S  \n271               male_S          nan_S  \n861               male_S          nan_S  \n436             female_S      B96 B98_S  \n103               male_S          D26_S  \n\n[596 rows x 14 columns]"
     },
     "metadata": {},
     "output_type": "display_data"
    }
   ],
   "source": [
    "numerical_cols = ['Age', 'SibSp', 'Parch', 'Fare']\n",
    "categorical_cols = ['Pclass', 'Sex', 'Cabin', 'Embarked']\n",
    "target = 'Survived'\n",
    "\n",
    "from sklearn.model_selection import train_test_split\n",
    "\n",
    "processed_data = process_titanic(train_data, categorical_cols, numerical_cols)\n",
    "# displayprocessed_data)\n",
    "\n",
    "features = [c for c in train_data.columns.values if c not in ['PassengerId','Survived','Name','Ticket']]\n",
    "\n",
    "X_train, X_test, y_train, y_test = train_test_split(train_data[features], train_data[target], test_size=0.33, random_state=42)\n",
    "X_train.head()"
   ]
  },
  {
   "cell_type": "markdown",
   "execution_count": null,
   "metadata": {},
   "outputs": [],
   "source": [
    "## Memo:\n",
    "We got some `nan` values above. In the future, we need to/should handle these nan values in processing."
   ]
  }
 ]
}