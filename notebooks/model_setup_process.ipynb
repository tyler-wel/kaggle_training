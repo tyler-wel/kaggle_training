{
 "nbformat": 4,
 "nbformat_minor": 2,
 "metadata": {
  "language_info": {
   "name": "python",
   "codemirror_mode": {
    "name": "ipython",
    "version": 3
   }
  },
  "orig_nbformat": 2,
  "file_extension": ".py",
  "mimetype": "text/x-python",
  "name": "python",
  "npconvert_exporter": "python",
  "pygments_lexer": "ipython3",
  "version": 3
 },
 "cells": [
  {
   "cell_type": "markdown",
   "execution_count": null,
   "metadata": {},
   "outputs": [],
   "source": [
    "# Data Science Project Setup Process\n",
    "\n",
    "This notebook will go over the general process of setting up data science projects for future models"
   ]
  },
  {
   "cell_type": "markdown",
   "execution_count": null,
   "metadata": {},
   "outputs": [],
   "source": [
    "### Topics to cover\n",
    "- Import data\n",
    "- Preprocess data\n",
    "    - Impute data (fill in NaN values)\n",
    "    - Categorize categorical data\n",
    "- Setup data sets and model\n",
    "- Fit everything into a pipeline\n",
    "- Train/Test/Score the model to find the parameters to get accurate data\n",
    "- Predict on the 'test' set"
   ]
  }
 ]
}