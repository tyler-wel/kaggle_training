{
 "nbformat": 4,
 "nbformat_minor": 2,
 "metadata": {
  "language_info": {
   "name": "python",
   "codemirror_mode": {
    "name": "ipython",
    "version": 3
   },
   "version": "3.7.4"
  },
  "orig_nbformat": 2,
  "file_extension": ".py",
  "mimetype": "text/x-python",
  "name": "python",
  "npconvert_exporter": "python",
  "pygments_lexer": "ipython3",
  "version": 3
 },
 "cells": [
  {
   "cell_type": "markdown",
   "execution_count": null,
   "metadata": {},
   "outputs": [],
   "source": [
    "# Pandas Overview\n",
    "When finished with this notebook, we'll be ready for anything pandas.\n"
   ]
  },
  {
   "cell_type": "code",
   "execution_count": 1,
   "metadata": {},
   "outputs": [],
   "source": [
    "import pandas as pd"
   ]
  },
  {
   "cell_type": "markdown",
   "execution_count": null,
   "metadata": {},
   "outputs": [],
   "source": [
    "\n",
    "## Creating, Reading and Writing\n",
    "Pandas has two core objects, **DataFrame** and **Series**.\n",
    "\n",
    "### DateFrame\n",
    "A DataFrame is a table. It contains an array of individual *entries*, each of which has a certain *value*. Each entry corresponds to a row (or *record*) and a *column*.\n",
    "\n",
    "For example, consider the following simple DataFrame:"
   ]
  },
  {
   "cell_type": "code",
   "execution_count": 2,
   "metadata": {},
   "outputs": [
    {
     "data": {
      "text/html": "<div>\n<style scoped>\n    .dataframe tbody tr th:only-of-type {\n        vertical-align: middle;\n    }\n\n    .dataframe tbody tr th {\n        vertical-align: top;\n    }\n\n    .dataframe thead th {\n        text-align: right;\n    }\n</style>\n<table border=\"1\" class=\"dataframe\">\n  <thead>\n    <tr style=\"text-align: right;\">\n      <th></th>\n      <th>Yes</th>\n      <th>No</th>\n    </tr>\n  </thead>\n  <tbody>\n    <tr>\n      <td>0</td>\n      <td>50</td>\n      <td>131</td>\n    </tr>\n    <tr>\n      <td>1</td>\n      <td>21</td>\n      <td>2</td>\n    </tr>\n  </tbody>\n</table>\n</div>",
      "text/plain": "   Yes   No\n0   50  131\n1   21    2"
     },
     "execution_count": 2,
     "metadata": {},
     "output_type": "execute_result"
    }
   ],
   "source": [
    "pd.DataFrame({'Yes': [50, 21], 'No': [131, 2]})"
   ]
  },
  {
   "cell_type": "markdown",
   "execution_count": null,
   "metadata": {},
   "outputs": [],
   "source": [
    "Here's another example showing strings."
   ]
  },
  {
   "cell_type": "code",
   "execution_count": 3,
   "metadata": {},
   "outputs": [
    {
     "data": {
      "text/html": "<div>\n<style scoped>\n    .dataframe tbody tr th:only-of-type {\n        vertical-align: middle;\n    }\n\n    .dataframe tbody tr th {\n        vertical-align: top;\n    }\n\n    .dataframe thead th {\n        text-align: right;\n    }\n</style>\n<table border=\"1\" class=\"dataframe\">\n  <thead>\n    <tr style=\"text-align: right;\">\n      <th></th>\n      <th>Bob</th>\n      <th>Sue</th>\n    </tr>\n  </thead>\n  <tbody>\n    <tr>\n      <td>0</td>\n      <td>I liked it.</td>\n      <td>Pretty good.</td>\n    </tr>\n    <tr>\n      <td>1</td>\n      <td>It was awful.</td>\n      <td>Bland.</td>\n    </tr>\n  </tbody>\n</table>\n</div>",
      "text/plain": "             Bob           Sue\n0    I liked it.  Pretty good.\n1  It was awful.        Bland."
     },
     "execution_count": 3,
     "metadata": {},
     "output_type": "execute_result"
    }
   ],
   "source": [
    "pd.DataFrame({'Bob': ['I liked it.', 'It was awful.'], 'Sue': ['Pretty good.', 'Bland.']})"
   ]
  },
  {
   "cell_type": "markdown",
   "execution_count": null,
   "metadata": {},
   "outputs": [],
   "source": [
    "We are using the ```pd.DataFrame()``` constructor to generate these DataFrame objects. The syntax for declaring a new one is a dictionary whose keys are the column names (*Bob* and *Sue* in this example), and whose values are a list of entries. This is the standard way of constructing a new DataFrame, and the one you are most likely to encounter.\n",
    "\n",
    "\n",
    "The dictionary-list constructor assigns values to the *column labels*, but just uses an ascending count from 0 (0, 1, 2, 3, ...) for the *row labels*. Sometimes this is OK, but oftentimes we will want to assign these labels ourselves.\n",
    "\n",
    "The list of row labels used in a DataFrame is known as an **Index**. We can assign values to it by using an ```index``` parameter in our constructor:"
   ]
  },
  {
   "cell_type": "code",
   "execution_count": 8,
   "metadata": {},
   "outputs": [
    {
     "data": {
      "text/html": "<div>\n<style scoped>\n    .dataframe tbody tr th:only-of-type {\n        vertical-align: middle;\n    }\n\n    .dataframe tbody tr th {\n        vertical-align: top;\n    }\n\n    .dataframe thead th {\n        text-align: right;\n    }\n</style>\n<table border=\"1\" class=\"dataframe\">\n  <thead>\n    <tr style=\"text-align: right;\">\n      <th></th>\n      <th>Bob</th>\n      <th>Sue</th>\n    </tr>\n  </thead>\n  <tbody>\n    <tr>\n      <td>Product A</td>\n      <td>I liked it.</td>\n      <td>Pretty good.</td>\n    </tr>\n    <tr>\n      <td>Product B</td>\n      <td>It was awful.</td>\n      <td>Bland.</td>\n    </tr>\n  </tbody>\n</table>\n</div>",
      "text/plain": "                     Bob           Sue\nProduct A    I liked it.  Pretty good.\nProduct B  It was awful.        Bland."
     },
     "execution_count": 8,
     "metadata": {},
     "output_type": "execute_result"
    }
   ],
   "source": [
    "pd.DataFrame({'Bob': ['I liked it.', 'It was awful.'],\n",
    "              'Sue': ['Pretty good.', 'Bland.']},\n",
    "              index=['Product A', 'Product B'])"
   ]
  },
  {
   "cell_type": "markdown",
   "execution_count": null,
   "metadata": {},
   "outputs": [],
   "source": [
    "### Series\n",
    "A Series, by contrast, is a sequence of data values. If a DataFrame is a table, a Series is a list. "
   ]
  },
  {
   "cell_type": "code",
   "execution_count": 9,
   "metadata": {},
   "outputs": [
    {
     "data": {
      "text/plain": "0    1\n1    2\n2    3\n3    4\n4    5\ndtype: int64"
     },
     "execution_count": 9,
     "metadata": {},
     "output_type": "execute_result"
    }
   ],
   "source": [
    "pd.Series([1, 2, 3, 4, 5])"
   ]
  },
  {
   "cell_type": "markdown",
   "execution_count": null,
   "metadata": {},
   "outputs": [],
   "source": [
    "A Series is, in essence, a single column of a DataFrame. So you can assign column values to the Series the same way as before, using an ```index``` parameter. However, a Series does not have a column name, it only has one overall ```name```:"
   ]
  },
  {
   "cell_type": "code",
   "execution_count": 10,
   "metadata": {},
   "outputs": [
    {
     "data": {
      "text/plain": "2015 Sales    30\n2016 Sales    35\n2017 Sales    40\nName: Product A, dtype: int64"
     },
     "execution_count": 10,
     "metadata": {},
     "output_type": "execute_result"
    }
   ],
   "source": [
    "pd.Series([30, 35, 40], index=['2015 Sales', '2016 Sales', '2017 Sales'], name='Product A')"
   ]
  },
  {
   "cell_type": "markdown",
   "execution_count": null,
   "metadata": {},
   "outputs": [],
   "source": [
    "The Series and the DataFrame are intimately related. It's helpful to think of a DataFrame as actually being just a bunch of Series \"glued together\". We'll see more of this below.\n",
    "\n",
    "### Reading data files\n",
    "Being able to create a DataFrame or Series by hand is handy. But, most of the time, we won't actually be creating our own data by hand. Instead, we'll be working with data that already exists.\n",
    "\n",
    "Data can be stored in any of a number of different forms and formats. By far the most basic of these is the humble CSV file. When you open a CSV file you get something that looks like this:\n",
    "```\n",
    "Product A, Product B, Product C\n",
    "30,21,9\n",
    "35,34,1\n",
    "41,11,11\n",
    "```\n",
    "Let's now set aside our toy datasets and read in a real dataset into a DataFrame. We'll use ```pd.read_csv()``` to do this."
   ]
  },
  {
   "cell_type": "code",
   "execution_count": 11,
   "metadata": {},
   "outputs": [],
   "source": [
    "ign_scores = pd.read_csv(\"./datasets/data-vis/ign_scores.csv\")"
   ]
  },
  {
   "cell_type": "markdown",
   "execution_count": null,
   "metadata": {},
   "outputs": [],
   "source": [
    "We can use the ```shape``` attribute to check how large a DataFrame is, and the ```head()``` function to peek the first five rows."
   ]
  },
  {
   "cell_type": "code",
   "execution_count": 14,
   "metadata": {},
   "outputs": [
    {
     "name": "stdout",
     "output_type": "stream",
     "text": "(21, 13)\n"
    },
    {
     "data": {
      "text/html": "<div>\n<style scoped>\n    .dataframe tbody tr th:only-of-type {\n        vertical-align: middle;\n    }\n\n    .dataframe tbody tr th {\n        vertical-align: top;\n    }\n\n    .dataframe thead th {\n        text-align: right;\n    }\n</style>\n<table border=\"1\" class=\"dataframe\">\n  <thead>\n    <tr style=\"text-align: right;\">\n      <th></th>\n      <th>Platform</th>\n      <th>Action</th>\n      <th>Action, Adventure</th>\n      <th>Adventure</th>\n      <th>Fighting</th>\n      <th>Platformer</th>\n      <th>Puzzle</th>\n      <th>RPG</th>\n      <th>Racing</th>\n      <th>Shooter</th>\n      <th>Simulation</th>\n      <th>Sports</th>\n      <th>Strategy</th>\n    </tr>\n  </thead>\n  <tbody>\n    <tr>\n      <td>0</td>\n      <td>Dreamcast</td>\n      <td>6.882857</td>\n      <td>7.511111</td>\n      <td>6.281818</td>\n      <td>8.200000</td>\n      <td>8.340000</td>\n      <td>8.088889</td>\n      <td>7.700000</td>\n      <td>7.042500</td>\n      <td>7.616667</td>\n      <td>7.628571</td>\n      <td>7.272222</td>\n      <td>6.433333</td>\n    </tr>\n    <tr>\n      <td>1</td>\n      <td>Game Boy Advance</td>\n      <td>6.373077</td>\n      <td>7.507692</td>\n      <td>6.057143</td>\n      <td>6.226316</td>\n      <td>6.970588</td>\n      <td>6.532143</td>\n      <td>7.542857</td>\n      <td>6.657143</td>\n      <td>6.444444</td>\n      <td>6.928571</td>\n      <td>6.694444</td>\n      <td>7.175000</td>\n    </tr>\n    <tr>\n      <td>2</td>\n      <td>Game Boy Color</td>\n      <td>6.272727</td>\n      <td>8.166667</td>\n      <td>5.307692</td>\n      <td>4.500000</td>\n      <td>6.352941</td>\n      <td>6.583333</td>\n      <td>7.285714</td>\n      <td>5.897436</td>\n      <td>4.500000</td>\n      <td>5.900000</td>\n      <td>5.790698</td>\n      <td>7.400000</td>\n    </tr>\n    <tr>\n      <td>3</td>\n      <td>GameCube</td>\n      <td>6.532584</td>\n      <td>7.608333</td>\n      <td>6.753846</td>\n      <td>7.422222</td>\n      <td>6.665714</td>\n      <td>6.133333</td>\n      <td>7.890909</td>\n      <td>6.852632</td>\n      <td>6.981818</td>\n      <td>8.028571</td>\n      <td>7.481319</td>\n      <td>7.116667</td>\n    </tr>\n    <tr>\n      <td>4</td>\n      <td>Nintendo 3DS</td>\n      <td>6.670833</td>\n      <td>7.481818</td>\n      <td>7.414286</td>\n      <td>6.614286</td>\n      <td>7.503448</td>\n      <td>8.000000</td>\n      <td>7.719231</td>\n      <td>6.900000</td>\n      <td>7.033333</td>\n      <td>7.700000</td>\n      <td>6.388889</td>\n      <td>7.900000</td>\n    </tr>\n  </tbody>\n</table>\n</div>",
      "text/plain": "           Platform    Action  Action, Adventure  Adventure  Fighting  \\\n0         Dreamcast  6.882857           7.511111   6.281818  8.200000   \n1  Game Boy Advance  6.373077           7.507692   6.057143  6.226316   \n2    Game Boy Color  6.272727           8.166667   5.307692  4.500000   \n3          GameCube  6.532584           7.608333   6.753846  7.422222   \n4      Nintendo 3DS  6.670833           7.481818   7.414286  6.614286   \n\n   Platformer    Puzzle       RPG    Racing   Shooter  Simulation    Sports  \\\n0    8.340000  8.088889  7.700000  7.042500  7.616667    7.628571  7.272222   \n1    6.970588  6.532143  7.542857  6.657143  6.444444    6.928571  6.694444   \n2    6.352941  6.583333  7.285714  5.897436  4.500000    5.900000  5.790698   \n3    6.665714  6.133333  7.890909  6.852632  6.981818    8.028571  7.481319   \n4    7.503448  8.000000  7.719231  6.900000  7.033333    7.700000  6.388889   \n\n   Strategy  \n0  6.433333  \n1  7.175000  \n2  7.400000  \n3  7.116667  \n4  7.900000  "
     },
     "execution_count": 14,
     "metadata": {},
     "output_type": "execute_result"
    }
   ],
   "source": [
    "print(ign_scores.shape)\n",
    "ign_scores.head()"
   ]
  },
  {
   "cell_type": "markdown",
   "execution_count": null,
   "metadata": {},
   "outputs": [],
   "source": [
    "The ```pd.read_csv()``` function is well-endowed, with over 30 optional parameters you can specify, like being able to specify a specific index column using ```index_col.```"
   ]
  },
  {
   "cell_type": "markdown",
   "execution_count": null,
   "metadata": {},
   "outputs": [],
   "source": [
    "## Indexing, Selecting, & Assigning\n"
   ]
  },
  {
   "cell_type": "markdown",
   "execution_count": null,
   "metadata": {},
   "outputs": [],
   "source": [
    "## Summary Functions and Maps\n"
   ]
  },
  {
   "cell_type": "markdown",
   "execution_count": null,
   "metadata": {},
   "outputs": [],
   "source": [
    "## Grouping and Sorting\n"
   ]
  },
  {
   "cell_type": "markdown",
   "execution_count": null,
   "metadata": {},
   "outputs": [],
   "source": [
    "## Data Types and Missing Values\n"
   ]
  },
  {
   "cell_type": "markdown",
   "execution_count": null,
   "metadata": {},
   "outputs": [],
   "source": [
    "## Renaming and Combining\n"
   ]
  }
 ]
}