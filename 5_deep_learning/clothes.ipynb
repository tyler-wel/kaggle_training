{
 "nbformat": 4,
 "nbformat_minor": 2,
 "metadata": {
  "language_info": {
   "name": "python",
   "codemirror_mode": {
    "name": "ipython",
    "version": 3
   }
  },
  "orig_nbformat": 2,
  "file_extension": ".py",
  "mimetype": "text/x-python",
  "name": "python",
  "npconvert_exporter": "python",
  "pygments_lexer": "ipython3",
  "version": 3
 },
 "cells": [
  {
   "cell_type": "code",
   "execution_count": null,
   "metadata": {},
   "outputs": [],
   "source": [
    "import numpy as np\n",
    "from sklearn.model_selection import train_test_split\n",
    "from tensorflow import keras\n",
    "\n",
    "# basically the size of our images\n",
    "img_rows, img_cols = 28, 28\n",
    "# num of categorical classes\n",
    "num_classes = 10\n",
    "\n",
    "def prep_data(raw):\n",
    "    \"\"\"\n",
    "    Prepares fashion-mnist data \n",
    "    params:\n",
    "        raw: the raw image pixel data\n",
    "    returns:\n",
    "        out_x: predictors dataframe\n",
    "        out_y: target dataframe\n",
    "    \"\"\"\n",
    "    # get the first column (the target labels)\n",
    "    y = raw[:, 0]\n",
    "    # one_hot_encode the target labels\n",
    "    out_y = keras.utils.to_categorical(y, num_classes)\n",
    "    # get the predictors (everything except first row)\n",
    "    x = raw[:,1:]\n",
    "    num_images = raw.shape[0] # get total num of images through shape of the first* row\n",
    "    # original data has each pixel seperated into different columns\n",
    "    #  reshape so each row is back to 28x28 image shape\n",
    "    out_x = x.reshape(num_images, img_rows, img_cols, 1)\n",
    "    # normalize the pixel data to 0~1 values\n",
    "    out_x = out_x / 255\n",
    "    return out_x, out_y\n",
    "\n",
    "fashion_file = \"../clothes/fashion-mnist_train.csv\"\n",
    "# load the training data\n",
    "fashion_data = np.loadtxt(fashion_file, skiprows=1, delimiter=',')\n",
    "x, y = prep_data(fashion_data)"
   ]
  },
  {
   "cell_type": "code",
   "execution_count": null,
   "metadata": {},
   "outputs": [],
   "source": [
    "from tensorflow import keras\n",
    "from tensorflow.keras.models import Sequential\n",
    "from tensorflow.keras.layers import Dense, Flatten, Conv2D\n",
    "\n",
    "# get base sequential model ready\n",
    "fashion_model = Sequential()\n",
    "# add first (input) layer \n",
    "fashion_model.add(Conv2D(12,\n",
    "                         kernel_size=(3,3),\n",
    "                         activation='relu',\n",
    "                         input_shape=(img_rows, img_cols, 1)))\n",
    "# add more convolution layers\n",
    "fashion_model.add(Conv2D(20,\n",
    "                         kernel_size=(3,3),\n",
    "                         activation='relu'))\n",
    "fashion_model.add(Conv2D(20,\n",
    "                         kernel_size=(3,3),\n",
    "                         activation='relu'))\n",
    "# Flatten into a singular dimension (aka 2d -> 1d)\n",
    "fashion_model.add(Flatten())\n",
    "# add an extra dense layer for good measures\n",
    "fashion_model.add(Dense(100, activation='relu'))\n",
    "# output/prediction layer\n",
    "fashion_model.add(Dense(num_classes,\n",
    "                        activation='softmax'))\n"
   ]
  },
  {
   "cell_type": "code",
   "execution_count": null,
   "metadata": {},
   "outputs": [],
   "source": [
    "# compile dat model\n",
    "fashion_model.compile(loss=keras.losses.categorical_crossentropy,\n",
    "                      optimizer='adam',\n",
    "                      metrics=['accuracy'])"
   ]
  },
  {
   "cell_type": "code",
   "execution_count": null,
   "metadata": {},
   "outputs": [],
   "source": [
    "# fit it \n",
    "fashion_model.fit(x, y, batch_size = 100, epochs=4, validation_split=0.2)\n"
   ]
  },
  {
   "cell_type": "code",
   "execution_count": null,
   "metadata": {},
   "outputs": [],
   "source": [
    "fashion_test_file = \"../clothes/fashion-mnist_test.csv\"\n",
    "# load the training data\n",
    "fashion_test_data = np.loadtxt(fashion_test_file, skiprows=1, delimiter=',')\n",
    "test_x, test_y = prep_data(fashion_test_data)\n",
    "fashion_pred = fashion_model.predict(test_x, batch_size = 100)"
   ]
  },
  {
   "cell_type": "code",
   "execution_count": null,
   "metadata": {},
   "outputs": [],
   "source": [
    "from my_modules.dl_helpers import decode_predictions\n",
    "from IPython.display import Image, display\n",
    "\n",
    "# setup like dogs example\n",
    "clothes_images = ''\n",
    "\n",
    "most_likely_labels = decode_predictions(fashion_pred, top=3)\n",
    "for i, img_path in enumerate(clothes_images):\n",
    "    display(Image(img_path))\n",
    "    cprint(f'Most Likely Label: {i + 1}', 'green')\n",
    "    print(most_likely_labels[i])"
   ]
  }
 ]
}